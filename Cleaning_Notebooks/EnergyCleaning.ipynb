{
 "cells": [
  {
   "cell_type": "code",
   "execution_count": 49,
   "metadata": {
    "id": "3eK_kAQwV4Bb"
   },
   "outputs": [],
   "source": [
    "# importing necessary libraries\n",
    "import pandas as pd\n",
    "import numpy as np\n",
    "pd.set_option('display.max_rows', 1000)\n",
    "pd.set_option('display.max_columns', None)\n",
    "import matplotlib.pyplot as plt\n",
    "import seaborn as sns\n",
    "import requests\n",
    "import urllib\n",
    "import re\n",
    "# from pandasql import sqldf\n",
    "from lxml import html\n",
    "from datetime import datetime, timedelta\n",
    "from pandas.tseries.holiday import USFederalHolidayCalendar as calendar\n",
    "import scipy.stats\n",
    "import pandas_datareader as web\n",
    "import matplotlib.dates as mdates\n",
    "plt.style.use('bmh')\n",
    "\n",
    "### Suppress Warnings:\n",
    "import warnings\n",
    "warnings.filterwarnings('ignore')"
   ]
  },
  {
   "cell_type": "code",
   "execution_count": 2,
   "metadata": {
    "id": "9_C9iHoKRaWa"
   },
   "outputs": [],
   "source": [
    "# !pip install pandasql"
   ]
  },
  {
   "cell_type": "markdown",
   "metadata": {
    "id": "u7NxS4Z4ZLEd"
   },
   "source": [
    "# Loading Energy Data\n",
    ">- loading data using the requests.get(url) directly from CAISO webpage\n",
    ">- Energy data for the four utility companies dates to 2019, the recent data being July of 2023\n",
    ">- Just as a note, I'll be using this years hourly data as the testing point while the 4 years pervious to 2023 would be used as a training set"
   ]
  },
  {
   "cell_type": "code",
   "execution_count": 3,
   "metadata": {
    "id": "tBZDhY3T-Kql"
   },
   "outputs": [],
   "source": [
    "#Storing the data URLs; the URL has data from 2019-2022 upto july os 2023\n",
    "url = \"http://www.caiso.com/planning/Pages/ReliabilityRequirements/Default.aspx\"\n",
    "\n",
    "#Requesting the data and getting a response from both the URls\n",
    "r = requests.get(url)\n",
    "\n",
    "#getting the html content\n",
    "tree = html.fromstring(r.content)\n",
    "\n",
    "#Using xpath and web scrapping to get the exact location of the data files on the website by using inspect method on the websites\n",
    "file = tree.xpath('//*[@id=\"NodeTempate\"]/a[@class=\"ISOTreeNodeTxt\"]//@href')"
   ]
  },
  {
   "cell_type": "code",
   "execution_count": 4,
   "metadata": {
    "colab": {
     "base_uri": "https://localhost:8080/"
    },
    "id": "z1WPvh5O2Wow",
    "outputId": "b984a654-fd0f-4386-e3c5-1fd689030282"
   },
   "outputs": [
    {
     "name": "stdout",
     "output_type": "stream",
     "text": [
      "/Documents/HistoricalYearAheadResourceAdequacyAggregateData.xlsx\n",
      "/Documents/HistoricalResourceAdequacyImportAggregateData.xlsx\n",
      "/Documents/HistoricalEMSHourlyLoadforJuly2023.xlsx\n",
      "/Documents/HistoricalEMSHourlyLoadforJune2023.xlsx\n",
      "/Documents/HistoricalEMSHourlyLoadforMay2023.xlsx\n",
      "/Documents/HistoricalEMSHourlyLoadforApril2023.xlsx\n",
      "/Documents/HistoricalEMSHourlyLoadforMarch2023.xlsx\n",
      "/Documents/HistoricalEMSHourlyLoadforFebruary2023.xlsx\n",
      "/Documents/HistoricalEMSHourlyLoadforJanuary2023.xlsx\n",
      "/Documents/HistoricalEMSHourlyLoad-2022.xlsx\n",
      "/Documents/HistoricalEMSHourlyLoad-2021.xlsx\n",
      "/Documents/HistoricalEMSHourlyLoad-2020.xlsx\n",
      "/Documents/HistoricalEMSHourlyLoad-2019.xlsx\n"
     ]
    }
   ],
   "source": [
    "#Checking if files were imported correctly; the hourly data is stored in all files starting with \"Historical...\"\n",
    "hourly_data=[]\n",
    "for doc in file:\n",
    "    if \"Historical\" in doc:\n",
    "        print(doc)\n",
    "        hourly_data.append(doc)"
   ]
  },
  {
   "cell_type": "code",
   "execution_count": 6,
   "metadata": {},
   "outputs": [
    {
     "name": "stdout",
     "output_type": "stream",
     "text": [
      "Collecting openpyxl\n",
      "  Downloading openpyxl-3.1.2-py2.py3-none-any.whl (249 kB)\n",
      "\u001b[2K     \u001b[90m━━━━━━━━━━━━━━━━━━━━━━━━━━━━━━━━━━━━━━\u001b[0m \u001b[32m250.0/250.0 kB\u001b[0m \u001b[31m10.4 MB/s\u001b[0m eta \u001b[36m0:00:00\u001b[0m\n",
      "\u001b[?25hCollecting et-xmlfile (from openpyxl)\n",
      "  Downloading et_xmlfile-1.1.0-py3-none-any.whl (4.7 kB)\n",
      "Installing collected packages: et-xmlfile, openpyxl\n",
      "Successfully installed et-xmlfile-1.1.0 openpyxl-3.1.2\n"
     ]
    }
   ],
   "source": [
    "# !pip install openpyxl"
   ]
  },
  {
   "cell_type": "code",
   "execution_count": 7,
   "metadata": {
    "id": "Is4zjP3sMWbw"
   },
   "outputs": [],
   "source": [
    "# reading in to files for the last four years and\n",
    "hourly_dict = {}\n",
    "for doc in file:\n",
    "    if \"Historical\" in doc:\n",
    "        year_match = re.search(r\"\\d{4}\", doc)  # Extract the year from the file name\n",
    "        if year_match:\n",
    "            year = year_match.group()\n",
    "            key = 'hourly_load' + '_' + year\n",
    "            hourly_dict[key] = pd.read_excel('http://www.caiso.com' + doc)"
   ]
  },
  {
   "cell_type": "code",
   "execution_count": 8,
   "metadata": {
    "colab": {
     "base_uri": "https://localhost:8080/"
    },
    "id": "J3BYmOIeMnzH",
    "outputId": "db192d2d-9c81-4f6d-c525-6a5fb1b8f313"
   },
   "outputs": [
    {
     "data": {
      "text/plain": [
       "dict_keys(['hourly_load_2023', 'hourly_load_2022', 'hourly_load_2021', 'hourly_load_2020', 'hourly_load_2019'])"
      ]
     },
     "execution_count": 8,
     "metadata": {},
     "output_type": "execute_result"
    }
   ],
   "source": [
    "hourly_dict.keys()"
   ]
  },
  {
   "cell_type": "code",
   "execution_count": 9,
   "metadata": {
    "id": "lA8BKnFyMtue"
   },
   "outputs": [],
   "source": [
    "hourly_df = pd.concat(hourly_dict, axis='rows', ignore_index=True)"
   ]
  },
  {
   "cell_type": "code",
   "execution_count": 10,
   "metadata": {
    "colab": {
     "base_uri": "https://localhost:8080/"
    },
    "id": "V3r2RVVTNkvX",
    "outputId": "53f0be74-77b7-44ea-9003-e11d4259cfd3"
   },
   "outputs": [
    {
     "data": {
      "text/plain": [
       "(35808, 10)"
      ]
     },
     "execution_count": 10,
     "metadata": {},
     "output_type": "execute_result"
    }
   ],
   "source": [
    "#Although 2023 data isn't complete with having 7 months data, df shape should be higher than 35,808\n",
    "hourly_df.shape"
   ]
  },
  {
   "cell_type": "code",
   "execution_count": 11,
   "metadata": {
    "colab": {
     "base_uri": "https://localhost:8080/",
     "height": 204
    },
    "id": "4UecAU0tM4gL",
    "outputId": "2da87048-0272-42df-aa48-0272ffcaa843"
   },
   "outputs": [
    {
     "data": {
      "text/html": [
       "<div>\n",
       "<style scoped>\n",
       "    .dataframe tbody tr th:only-of-type {\n",
       "        vertical-align: middle;\n",
       "    }\n",
       "\n",
       "    .dataframe tbody tr th {\n",
       "        vertical-align: top;\n",
       "    }\n",
       "\n",
       "    .dataframe thead th {\n",
       "        text-align: right;\n",
       "    }\n",
       "</style>\n",
       "<table border=\"1\" class=\"dataframe\">\n",
       "  <thead>\n",
       "    <tr style=\"text-align: right;\">\n",
       "      <th></th>\n",
       "      <th>Date</th>\n",
       "      <th>HR</th>\n",
       "      <th>PGE</th>\n",
       "      <th>SCE</th>\n",
       "      <th>SDGE</th>\n",
       "      <th>VEA</th>\n",
       "      <th>CAISO</th>\n",
       "      <th>HE</th>\n",
       "      <th>CAISO Total</th>\n",
       "      <th>Unnamed: 7</th>\n",
       "    </tr>\n",
       "  </thead>\n",
       "  <tbody>\n",
       "    <tr>\n",
       "      <th>0</th>\n",
       "      <td>2023-01-01</td>\n",
       "      <td>1.0</td>\n",
       "      <td>9762.243994</td>\n",
       "      <td>9423.627669</td>\n",
       "      <td>2051.813381</td>\n",
       "      <td>64.478279</td>\n",
       "      <td>21302.162944</td>\n",
       "      <td>NaN</td>\n",
       "      <td>NaN</td>\n",
       "      <td>NaN</td>\n",
       "    </tr>\n",
       "    <tr>\n",
       "      <th>1</th>\n",
       "      <td>2023-01-01</td>\n",
       "      <td>2.0</td>\n",
       "      <td>9705.411413</td>\n",
       "      <td>9047.385452</td>\n",
       "      <td>1987.566918</td>\n",
       "      <td>63.386680</td>\n",
       "      <td>20803.750237</td>\n",
       "      <td>NaN</td>\n",
       "      <td>NaN</td>\n",
       "      <td>NaN</td>\n",
       "    </tr>\n",
       "    <tr>\n",
       "      <th>2</th>\n",
       "      <td>2023-01-01</td>\n",
       "      <td>3.0</td>\n",
       "      <td>9539.147198</td>\n",
       "      <td>8795.717097</td>\n",
       "      <td>1900.535271</td>\n",
       "      <td>64.666820</td>\n",
       "      <td>20300.078086</td>\n",
       "      <td>NaN</td>\n",
       "      <td>NaN</td>\n",
       "      <td>NaN</td>\n",
       "    </tr>\n",
       "    <tr>\n",
       "      <th>3</th>\n",
       "      <td>2023-01-01</td>\n",
       "      <td>4.0</td>\n",
       "      <td>9372.682285</td>\n",
       "      <td>8583.525353</td>\n",
       "      <td>1893.322396</td>\n",
       "      <td>65.390935</td>\n",
       "      <td>19914.921017</td>\n",
       "      <td>NaN</td>\n",
       "      <td>NaN</td>\n",
       "      <td>NaN</td>\n",
       "    </tr>\n",
       "    <tr>\n",
       "      <th>4</th>\n",
       "      <td>2023-01-01</td>\n",
       "      <td>5.0</td>\n",
       "      <td>9438.792313</td>\n",
       "      <td>8612.092143</td>\n",
       "      <td>1859.285546</td>\n",
       "      <td>65.672430</td>\n",
       "      <td>19975.842246</td>\n",
       "      <td>NaN</td>\n",
       "      <td>NaN</td>\n",
       "      <td>NaN</td>\n",
       "    </tr>\n",
       "  </tbody>\n",
       "</table>\n",
       "</div>"
      ],
      "text/plain": [
       "        Date   HR          PGE          SCE         SDGE        VEA  \\\n",
       "0 2023-01-01  1.0  9762.243994  9423.627669  2051.813381  64.478279   \n",
       "1 2023-01-01  2.0  9705.411413  9047.385452  1987.566918  63.386680   \n",
       "2 2023-01-01  3.0  9539.147198  8795.717097  1900.535271  64.666820   \n",
       "3 2023-01-01  4.0  9372.682285  8583.525353  1893.322396  65.390935   \n",
       "4 2023-01-01  5.0  9438.792313  8612.092143  1859.285546  65.672430   \n",
       "\n",
       "          CAISO  HE  CAISO Total Unnamed: 7  \n",
       "0  21302.162944 NaN          NaN        NaN  \n",
       "1  20803.750237 NaN          NaN        NaN  \n",
       "2  20300.078086 NaN          NaN        NaN  \n",
       "3  19914.921017 NaN          NaN        NaN  \n",
       "4  19975.842246 NaN          NaN        NaN  "
      ]
     },
     "execution_count": 11,
     "metadata": {},
     "output_type": "execute_result"
    }
   ],
   "source": [
    "hourly_df.head()"
   ]
  },
  {
   "cell_type": "code",
   "execution_count": 12,
   "metadata": {
    "colab": {
     "base_uri": "https://localhost:8080/"
    },
    "id": "EPRhJE2PK5EU",
    "outputId": "d1935074-6364-42c9-e0d7-2948bd2d309b"
   },
   "outputs": [
    {
     "data": {
      "text/plain": [
       "744"
      ]
     },
     "execution_count": 12,
     "metadata": {},
     "output_type": "execute_result"
    }
   ],
   "source": [
    "# Inspecting for 2023 data we can see that only 744 instances were recorded and only january exists in the created hourly_df\n",
    "count_2023 = len(hourly_df[hourly_df['Date'].dt.year == 2023])\n",
    "count_2023"
   ]
  },
  {
   "cell_type": "code",
   "execution_count": 13,
   "metadata": {
    "colab": {
     "base_uri": "https://localhost:8080/"
    },
    "id": "9JA2m3OPPNH4",
    "outputId": "9d7d1b63-78fa-495e-fccd-d0eab8703035"
   },
   "outputs": [
    {
     "data": {
      "text/plain": [
       "35802"
      ]
     },
     "execution_count": 13,
     "metadata": {},
     "output_type": "execute_result"
    }
   ],
   "source": [
    "hourly_df['Unnamed: 7'].isna().sum()"
   ]
  },
  {
   "cell_type": "code",
   "execution_count": 14,
   "metadata": {
    "id": "iMbckHnpQW2E"
   },
   "outputs": [],
   "source": [
    "#Will be dropping 2023 from the hourly_df\n",
    "hourly_df= hourly_df[hourly_df['Date'].dt.year != 2023]"
   ]
  },
  {
   "cell_type": "code",
   "execution_count": 15,
   "metadata": {
    "id": "RQxUz0BhK5B5"
   },
   "outputs": [],
   "source": [
    "#Will also be dropping Unnamed: 7 as a column without much information and only 3 instances recorded\n",
    "hourly_df.drop('Unnamed: 7', axis=1, inplace=True)"
   ]
  },
  {
   "cell_type": "code",
   "execution_count": 16,
   "metadata": {
    "colab": {
     "base_uri": "https://localhost:8080/"
    },
    "id": "hYNqcwxlK4_T",
    "outputId": "a4f9f59c-d85c-4c10-d662-d690daf73f1b"
   },
   "outputs": [
    {
     "data": {
      "text/plain": [
       "(35064, 9)"
      ]
     },
     "execution_count": 16,
     "metadata": {},
     "output_type": "execute_result"
    }
   ],
   "source": [
    "hourly_df.shape"
   ]
  },
  {
   "cell_type": "code",
   "execution_count": 17,
   "metadata": {
    "colab": {
     "base_uri": "https://localhost:8080/"
    },
    "id": "l7xilWt5K48n",
    "outputId": "b741acc3-c178-4388-be45-df69612e06a1"
   },
   "outputs": [
    {
     "data": {
      "text/plain": [
       "Date               0\n",
       "HR             17544\n",
       "PGE                0\n",
       "SCE                0\n",
       "SDGE               0\n",
       "VEA                0\n",
       "CAISO          17544\n",
       "HE             17520\n",
       "CAISO Total    17520\n",
       "dtype: int64"
      ]
     },
     "execution_count": 17,
     "metadata": {},
     "output_type": "execute_result"
    }
   ],
   "source": [
    "# Checking for other null values and seems like we've two instances of hours as HE represents hourly energy and HR is extracted from Date\n",
    "# We also have two CAISO entries we can keep one and calculate the null entries by adding the utility companies total\n",
    "hourly_df.isna().sum()"
   ]
  },
  {
   "cell_type": "code",
   "execution_count": 18,
   "metadata": {
    "id": "1gx2oV3IK45-"
   },
   "outputs": [],
   "source": [
    "hourly_df.drop(['CAISO Total', 'HE', 'HR'], axis=1, inplace=True)"
   ]
  },
  {
   "cell_type": "code",
   "execution_count": 19,
   "metadata": {
    "colab": {
     "base_uri": "https://localhost:8080/",
     "height": 204
    },
    "id": "gJIKfyEnK4wS",
    "outputId": "5cd7ca23-a76b-4efe-b72e-e6f371a7936b"
   },
   "outputs": [
    {
     "data": {
      "text/html": [
       "<div>\n",
       "<style scoped>\n",
       "    .dataframe tbody tr th:only-of-type {\n",
       "        vertical-align: middle;\n",
       "    }\n",
       "\n",
       "    .dataframe tbody tr th {\n",
       "        vertical-align: top;\n",
       "    }\n",
       "\n",
       "    .dataframe thead th {\n",
       "        text-align: right;\n",
       "    }\n",
       "</style>\n",
       "<table border=\"1\" class=\"dataframe\">\n",
       "  <thead>\n",
       "    <tr style=\"text-align: right;\">\n",
       "      <th></th>\n",
       "      <th>Date</th>\n",
       "      <th>PGE</th>\n",
       "      <th>SCE</th>\n",
       "      <th>SDGE</th>\n",
       "      <th>VEA</th>\n",
       "      <th>CAISO</th>\n",
       "    </tr>\n",
       "  </thead>\n",
       "  <tbody>\n",
       "    <tr>\n",
       "      <th>744</th>\n",
       "      <td>2022-01-01</td>\n",
       "      <td>10194.36</td>\n",
       "      <td>9931.73</td>\n",
       "      <td>2084.72</td>\n",
       "      <td>92.85</td>\n",
       "      <td>22303.67</td>\n",
       "    </tr>\n",
       "    <tr>\n",
       "      <th>745</th>\n",
       "      <td>2022-01-01</td>\n",
       "      <td>9864.37</td>\n",
       "      <td>9542.54</td>\n",
       "      <td>1989.79</td>\n",
       "      <td>94.39</td>\n",
       "      <td>21491.08</td>\n",
       "    </tr>\n",
       "    <tr>\n",
       "      <th>746</th>\n",
       "      <td>2022-01-01</td>\n",
       "      <td>9640.65</td>\n",
       "      <td>9386.28</td>\n",
       "      <td>1918.94</td>\n",
       "      <td>95.85</td>\n",
       "      <td>21041.72</td>\n",
       "    </tr>\n",
       "    <tr>\n",
       "      <th>747</th>\n",
       "      <td>2022-01-01</td>\n",
       "      <td>9811.09</td>\n",
       "      <td>9136.57</td>\n",
       "      <td>1831.52</td>\n",
       "      <td>96.77</td>\n",
       "      <td>20875.96</td>\n",
       "    </tr>\n",
       "    <tr>\n",
       "      <th>748</th>\n",
       "      <td>2022-01-01</td>\n",
       "      <td>9832.34</td>\n",
       "      <td>9150.23</td>\n",
       "      <td>1818.13</td>\n",
       "      <td>100.71</td>\n",
       "      <td>20901.42</td>\n",
       "    </tr>\n",
       "  </tbody>\n",
       "</table>\n",
       "</div>"
      ],
      "text/plain": [
       "          Date       PGE      SCE     SDGE     VEA     CAISO\n",
       "744 2022-01-01  10194.36  9931.73  2084.72   92.85  22303.67\n",
       "745 2022-01-01   9864.37  9542.54  1989.79   94.39  21491.08\n",
       "746 2022-01-01   9640.65  9386.28  1918.94   95.85  21041.72\n",
       "747 2022-01-01   9811.09  9136.57  1831.52   96.77  20875.96\n",
       "748 2022-01-01   9832.34  9150.23  1818.13  100.71  20901.42"
      ]
     },
     "execution_count": 19,
     "metadata": {},
     "output_type": "execute_result"
    }
   ],
   "source": [
    "hourly_df.head()"
   ]
  },
  {
   "cell_type": "code",
   "execution_count": 20,
   "metadata": {
    "id": "Ruowxc1KSw6-"
   },
   "outputs": [],
   "source": [
    "#Since we've null values in CAISO and its a total of the region participating utilities, we'll creat a function to replace Nan or null with total value\n",
    "# Iterate over each row in the DataFrame\n",
    "for index, row in hourly_df.iterrows():\n",
    "    # Checks if value is null or NaN for CAISO\n",
    "    if pd.isnull(row['CAISO']):\n",
    "        # Calculates the sum of values from other columns\n",
    "        total_sum = row['PGE'] + row['SCE'] + row['SDGE'] + row['VEA']\n",
    "        # FillS the empty CAISO value with the calculated sum\n",
    "        hourly_df.at[index, 'CAISO'] = total_sum"
   ]
  },
  {
   "cell_type": "code",
   "execution_count": 21,
   "metadata": {
    "colab": {
     "base_uri": "https://localhost:8080/"
    },
    "id": "JNMQvaonTUkr",
    "outputId": "8ae1f897-da93-4234-b4bb-805023d3cea1"
   },
   "outputs": [
    {
     "data": {
      "text/plain": [
       "Date     0\n",
       "PGE      0\n",
       "SCE      0\n",
       "SDGE     0\n",
       "VEA      0\n",
       "CAISO    0\n",
       "dtype: int64"
      ]
     },
     "execution_count": 21,
     "metadata": {},
     "output_type": "execute_result"
    }
   ],
   "source": [
    "#We can see that CAISO no longer has empty values\n",
    "hourly_df.isna().sum()"
   ]
  },
  {
   "cell_type": "code",
   "execution_count": 22,
   "metadata": {
    "id": "W7KKVr7jb-pL"
   },
   "outputs": [],
   "source": [
    "#Before filling in for hr column I'll change the date to datetime and use it as index\n",
    "hourly_df['Date'] = pd.to_datetime(hourly_df['Date'])\n",
    "hourly_df.sort_values('Date', inplace=True)"
   ]
  },
  {
   "cell_type": "code",
   "execution_count": 23,
   "metadata": {
    "id": "LR6tVdQDLIx2"
   },
   "outputs": [],
   "source": [
    "# Define the start and end points of the time sequence since our date column doesnt have hours\n",
    "start_date = pd.Timestamp(year=2019, month=1, day=1, hour=0, minute=0, second=0)\n",
    "end_date = pd.Timestamp(year=2022, month=12, day=31, hour=23, minute=59, second=59)\n",
    "\n",
    "time_sequence = pd.date_range(start=start_date, end=end_date, freq='H')\n",
    "\n",
    "df_time = pd.DataFrame({'datetime':time_sequence})"
   ]
  },
  {
   "cell_type": "code",
   "execution_count": 24,
   "metadata": {
    "id": "f73s4ft9ETro"
   },
   "outputs": [],
   "source": [
    "# Extract the year, month, day, and hour information from the datetime column\n",
    "df_time['year'] = df_time['datetime'].dt.year\n",
    "df_time['month'] = df_time['datetime'].dt.month\n",
    "df_time['day'] = df_time['datetime'].dt.day\n",
    "df_time['hour'] = df_time['datetime'].dt.hour"
   ]
  },
  {
   "cell_type": "code",
   "execution_count": 25,
   "metadata": {
    "id": "qCx9w9U-EcFf"
   },
   "outputs": [],
   "source": [
    "# Ensure data types match\n",
    "hourly_df[\"Date\"] = pd.to_datetime(hourly_df[\"Date\"])\n",
    "df_time[\"datetime\"] = pd.to_datetime(df_time[\"datetime\"])"
   ]
  },
  {
   "cell_type": "code",
   "execution_count": 26,
   "metadata": {
    "id": "75_QnMReTU_9"
   },
   "outputs": [],
   "source": [
    "hourly_df.set_index(\"Date\", inplace =True)"
   ]
  },
  {
   "cell_type": "code",
   "execution_count": 27,
   "metadata": {
    "id": "mgf762O4TPoQ"
   },
   "outputs": [],
   "source": [
    "df_time.set_index(\"datetime\", inplace=True)"
   ]
  },
  {
   "cell_type": "code",
   "execution_count": 28,
   "metadata": {
    "colab": {
     "base_uri": "https://localhost:8080/",
     "height": 450
    },
    "id": "eJtSSeATONql",
    "outputId": "abee344d-88a4-46d7-c7c0-fd7f2de068c4"
   },
   "outputs": [
    {
     "data": {
      "text/html": [
       "<div>\n",
       "<style scoped>\n",
       "    .dataframe tbody tr th:only-of-type {\n",
       "        vertical-align: middle;\n",
       "    }\n",
       "\n",
       "    .dataframe tbody tr th {\n",
       "        vertical-align: top;\n",
       "    }\n",
       "\n",
       "    .dataframe thead th {\n",
       "        text-align: right;\n",
       "    }\n",
       "</style>\n",
       "<table border=\"1\" class=\"dataframe\">\n",
       "  <thead>\n",
       "    <tr style=\"text-align: right;\">\n",
       "      <th></th>\n",
       "      <th>PGE</th>\n",
       "      <th>SCE</th>\n",
       "      <th>SDGE</th>\n",
       "      <th>VEA</th>\n",
       "      <th>CAISO</th>\n",
       "    </tr>\n",
       "    <tr>\n",
       "      <th>Date</th>\n",
       "      <th></th>\n",
       "      <th></th>\n",
       "      <th></th>\n",
       "      <th></th>\n",
       "      <th></th>\n",
       "    </tr>\n",
       "  </thead>\n",
       "  <tbody>\n",
       "    <tr>\n",
       "      <th>2019-01-01</th>\n",
       "      <td>10543.794826</td>\n",
       "      <td>10829.111952</td>\n",
       "      <td>2372.497411</td>\n",
       "      <td>95.325563</td>\n",
       "      <td>23840.729751</td>\n",
       "    </tr>\n",
       "    <tr>\n",
       "      <th>2019-01-01</th>\n",
       "      <td>11649.592015</td>\n",
       "      <td>11893.453736</td>\n",
       "      <td>2698.751137</td>\n",
       "      <td>99.887433</td>\n",
       "      <td>26341.684321</td>\n",
       "    </tr>\n",
       "    <tr>\n",
       "      <th>2019-01-01</th>\n",
       "      <td>11875.814143</td>\n",
       "      <td>11992.329483</td>\n",
       "      <td>2777.672120</td>\n",
       "      <td>99.879848</td>\n",
       "      <td>26745.695594</td>\n",
       "    </tr>\n",
       "    <tr>\n",
       "      <th>2019-01-01</th>\n",
       "      <td>11997.283952</td>\n",
       "      <td>12030.146692</td>\n",
       "      <td>2799.193829</td>\n",
       "      <td>99.243393</td>\n",
       "      <td>26925.867866</td>\n",
       "    </tr>\n",
       "    <tr>\n",
       "      <th>2019-01-01</th>\n",
       "      <td>11688.500889</td>\n",
       "      <td>11692.302915</td>\n",
       "      <td>2761.883322</td>\n",
       "      <td>98.852646</td>\n",
       "      <td>26241.539771</td>\n",
       "    </tr>\n",
       "    <tr>\n",
       "      <th>...</th>\n",
       "      <td>...</td>\n",
       "      <td>...</td>\n",
       "      <td>...</td>\n",
       "      <td>...</td>\n",
       "      <td>...</td>\n",
       "    </tr>\n",
       "    <tr>\n",
       "      <th>2022-12-31</th>\n",
       "      <td>9713.140000</td>\n",
       "      <td>8830.890000</td>\n",
       "      <td>1848.860000</td>\n",
       "      <td>59.980000</td>\n",
       "      <td>20452.860000</td>\n",
       "    </tr>\n",
       "    <tr>\n",
       "      <th>2022-12-31</th>\n",
       "      <td>9833.260000</td>\n",
       "      <td>8994.520000</td>\n",
       "      <td>1857.700000</td>\n",
       "      <td>59.210000</td>\n",
       "      <td>20744.690000</td>\n",
       "    </tr>\n",
       "    <tr>\n",
       "      <th>2022-12-31</th>\n",
       "      <td>9781.560000</td>\n",
       "      <td>9632.460000</td>\n",
       "      <td>2035.800000</td>\n",
       "      <td>58.680000</td>\n",
       "      <td>21508.500000</td>\n",
       "    </tr>\n",
       "    <tr>\n",
       "      <th>2022-12-31</th>\n",
       "      <td>11282.210000</td>\n",
       "      <td>10547.930000</td>\n",
       "      <td>2080.700000</td>\n",
       "      <td>60.320000</td>\n",
       "      <td>23971.170000</td>\n",
       "    </tr>\n",
       "    <tr>\n",
       "      <th>2022-12-31</th>\n",
       "      <td>11115.360000</td>\n",
       "      <td>10624.570000</td>\n",
       "      <td>2040.010000</td>\n",
       "      <td>64.440000</td>\n",
       "      <td>23844.380000</td>\n",
       "    </tr>\n",
       "  </tbody>\n",
       "</table>\n",
       "<p>35064 rows × 5 columns</p>\n",
       "</div>"
      ],
      "text/plain": [
       "                     PGE           SCE         SDGE        VEA         CAISO\n",
       "Date                                                                        \n",
       "2019-01-01  10543.794826  10829.111952  2372.497411  95.325563  23840.729751\n",
       "2019-01-01  11649.592015  11893.453736  2698.751137  99.887433  26341.684321\n",
       "2019-01-01  11875.814143  11992.329483  2777.672120  99.879848  26745.695594\n",
       "2019-01-01  11997.283952  12030.146692  2799.193829  99.243393  26925.867866\n",
       "2019-01-01  11688.500889  11692.302915  2761.883322  98.852646  26241.539771\n",
       "...                  ...           ...          ...        ...           ...\n",
       "2022-12-31   9713.140000   8830.890000  1848.860000  59.980000  20452.860000\n",
       "2022-12-31   9833.260000   8994.520000  1857.700000  59.210000  20744.690000\n",
       "2022-12-31   9781.560000   9632.460000  2035.800000  58.680000  21508.500000\n",
       "2022-12-31  11282.210000  10547.930000  2080.700000  60.320000  23971.170000\n",
       "2022-12-31  11115.360000  10624.570000  2040.010000  64.440000  23844.380000\n",
       "\n",
       "[35064 rows x 5 columns]"
      ]
     },
     "execution_count": 28,
     "metadata": {},
     "output_type": "execute_result"
    }
   ],
   "source": [
    "hourly_df"
   ]
  },
  {
   "cell_type": "code",
   "execution_count": null,
   "metadata": {
    "colab": {
     "base_uri": "https://localhost:8080/",
     "height": 450
    },
    "id": "t4aq6npyL8Do",
    "outputId": "86bb7cc9-e454-4b51-adc0-ec43eaddcd36"
   },
   "outputs": [],
   "source": [
    "df_time"
   ]
  },
  {
   "cell_type": "code",
   "execution_count": 29,
   "metadata": {
    "colab": {
     "base_uri": "https://localhost:8080/",
     "height": 204
    },
    "id": "mPGP6cAUTsR8",
    "outputId": "f07b716a-57c2-48d1-a033-338c44622ef3"
   },
   "outputs": [
    {
     "data": {
      "text/html": [
       "<div>\n",
       "<style scoped>\n",
       "    .dataframe tbody tr th:only-of-type {\n",
       "        vertical-align: middle;\n",
       "    }\n",
       "\n",
       "    .dataframe tbody tr th {\n",
       "        vertical-align: top;\n",
       "    }\n",
       "\n",
       "    .dataframe thead th {\n",
       "        text-align: right;\n",
       "    }\n",
       "</style>\n",
       "<table border=\"1\" class=\"dataframe\">\n",
       "  <thead>\n",
       "    <tr style=\"text-align: right;\">\n",
       "      <th></th>\n",
       "      <th>Date</th>\n",
       "      <th>PGE</th>\n",
       "      <th>SCE</th>\n",
       "      <th>SDGE</th>\n",
       "      <th>VEA</th>\n",
       "      <th>CAISO</th>\n",
       "      <th>datetime</th>\n",
       "      <th>year</th>\n",
       "      <th>month</th>\n",
       "      <th>day</th>\n",
       "      <th>hour</th>\n",
       "    </tr>\n",
       "  </thead>\n",
       "  <tbody>\n",
       "    <tr>\n",
       "      <th>0</th>\n",
       "      <td>2019-01-01</td>\n",
       "      <td>10543.794826</td>\n",
       "      <td>10829.111952</td>\n",
       "      <td>2372.497411</td>\n",
       "      <td>95.325563</td>\n",
       "      <td>23840.729751</td>\n",
       "      <td>2019-01-01 00:00:00</td>\n",
       "      <td>2019</td>\n",
       "      <td>1</td>\n",
       "      <td>1</td>\n",
       "      <td>0</td>\n",
       "    </tr>\n",
       "    <tr>\n",
       "      <th>1</th>\n",
       "      <td>2019-01-01</td>\n",
       "      <td>11649.592015</td>\n",
       "      <td>11893.453736</td>\n",
       "      <td>2698.751137</td>\n",
       "      <td>99.887433</td>\n",
       "      <td>26341.684321</td>\n",
       "      <td>2019-01-01 01:00:00</td>\n",
       "      <td>2019</td>\n",
       "      <td>1</td>\n",
       "      <td>1</td>\n",
       "      <td>1</td>\n",
       "    </tr>\n",
       "    <tr>\n",
       "      <th>2</th>\n",
       "      <td>2019-01-01</td>\n",
       "      <td>11875.814143</td>\n",
       "      <td>11992.329483</td>\n",
       "      <td>2777.672120</td>\n",
       "      <td>99.879848</td>\n",
       "      <td>26745.695594</td>\n",
       "      <td>2019-01-01 02:00:00</td>\n",
       "      <td>2019</td>\n",
       "      <td>1</td>\n",
       "      <td>1</td>\n",
       "      <td>2</td>\n",
       "    </tr>\n",
       "    <tr>\n",
       "      <th>3</th>\n",
       "      <td>2019-01-01</td>\n",
       "      <td>11997.283952</td>\n",
       "      <td>12030.146692</td>\n",
       "      <td>2799.193829</td>\n",
       "      <td>99.243393</td>\n",
       "      <td>26925.867866</td>\n",
       "      <td>2019-01-01 03:00:00</td>\n",
       "      <td>2019</td>\n",
       "      <td>1</td>\n",
       "      <td>1</td>\n",
       "      <td>3</td>\n",
       "    </tr>\n",
       "    <tr>\n",
       "      <th>4</th>\n",
       "      <td>2019-01-01</td>\n",
       "      <td>11688.500889</td>\n",
       "      <td>11692.302915</td>\n",
       "      <td>2761.883322</td>\n",
       "      <td>98.852646</td>\n",
       "      <td>26241.539771</td>\n",
       "      <td>2019-01-01 04:00:00</td>\n",
       "      <td>2019</td>\n",
       "      <td>1</td>\n",
       "      <td>1</td>\n",
       "      <td>4</td>\n",
       "    </tr>\n",
       "  </tbody>\n",
       "</table>\n",
       "</div>"
      ],
      "text/plain": [
       "        Date           PGE           SCE         SDGE        VEA  \\\n",
       "0 2019-01-01  10543.794826  10829.111952  2372.497411  95.325563   \n",
       "1 2019-01-01  11649.592015  11893.453736  2698.751137  99.887433   \n",
       "2 2019-01-01  11875.814143  11992.329483  2777.672120  99.879848   \n",
       "3 2019-01-01  11997.283952  12030.146692  2799.193829  99.243393   \n",
       "4 2019-01-01  11688.500889  11692.302915  2761.883322  98.852646   \n",
       "\n",
       "          CAISO            datetime  year  month  day  hour  \n",
       "0  23840.729751 2019-01-01 00:00:00  2019      1    1     0  \n",
       "1  26341.684321 2019-01-01 01:00:00  2019      1    1     1  \n",
       "2  26745.695594 2019-01-01 02:00:00  2019      1    1     2  \n",
       "3  26925.867866 2019-01-01 03:00:00  2019      1    1     3  \n",
       "4  26241.539771 2019-01-01 04:00:00  2019      1    1     4  "
      ]
     },
     "execution_count": 29,
     "metadata": {},
     "output_type": "execute_result"
    }
   ],
   "source": [
    "# Both df_time and hourly_df have the same number and are squential, will be merging them to have the hours column\n",
    "hourly_df.reset_index(inplace=True)\n",
    "df_time.reset_index(inplace=True)\n",
    "hourly = pd.concat([hourly_df,df_time], axis= 1)\n",
    "hourly.head()"
   ]
  },
  {
   "cell_type": "code",
   "execution_count": 30,
   "metadata": {
    "colab": {
     "base_uri": "https://localhost:8080/"
    },
    "id": "JrUcoqYKdDeM",
    "outputId": "f80bef00-4c5a-44bc-f1aa-bd1417026615"
   },
   "outputs": [
    {
     "data": {
      "text/plain": [
       "(35064, 11)"
      ]
     },
     "execution_count": 30,
     "metadata": {},
     "output_type": "execute_result"
    }
   ],
   "source": [
    "hourly.shape"
   ]
  },
  {
   "cell_type": "code",
   "execution_count": 31,
   "metadata": {
    "id": "9oIeDBbNfmOZ"
   },
   "outputs": [],
   "source": [
    "# Dropping original Date, keeing datetime since it has the time down to the hour\n",
    "hourly.drop('Date', axis=1, inplace=True)"
   ]
  },
  {
   "cell_type": "code",
   "execution_count": 32,
   "metadata": {
    "colab": {
     "base_uri": "https://localhost:8080/",
     "height": 419
    },
    "id": "gkDhdxKihos3",
    "outputId": "5fa2cd03-2045-4cf2-ff76-122b1fcae03e"
   },
   "outputs": [
    {
     "data": {
      "text/html": [
       "<div>\n",
       "<style scoped>\n",
       "    .dataframe tbody tr th:only-of-type {\n",
       "        vertical-align: middle;\n",
       "    }\n",
       "\n",
       "    .dataframe tbody tr th {\n",
       "        vertical-align: top;\n",
       "    }\n",
       "\n",
       "    .dataframe thead th {\n",
       "        text-align: right;\n",
       "    }\n",
       "</style>\n",
       "<table border=\"1\" class=\"dataframe\">\n",
       "  <thead>\n",
       "    <tr style=\"text-align: right;\">\n",
       "      <th></th>\n",
       "      <th>PGE</th>\n",
       "      <th>SCE</th>\n",
       "      <th>SDGE</th>\n",
       "      <th>VEA</th>\n",
       "      <th>CAISO</th>\n",
       "      <th>datetime</th>\n",
       "      <th>year</th>\n",
       "      <th>month</th>\n",
       "      <th>day</th>\n",
       "      <th>hour</th>\n",
       "    </tr>\n",
       "  </thead>\n",
       "  <tbody>\n",
       "    <tr>\n",
       "      <th>0</th>\n",
       "      <td>10543.794826</td>\n",
       "      <td>10829.111952</td>\n",
       "      <td>2372.497411</td>\n",
       "      <td>95.325563</td>\n",
       "      <td>23840.729751</td>\n",
       "      <td>2019-01-01 00:00:00</td>\n",
       "      <td>2019</td>\n",
       "      <td>1</td>\n",
       "      <td>1</td>\n",
       "      <td>0</td>\n",
       "    </tr>\n",
       "    <tr>\n",
       "      <th>1</th>\n",
       "      <td>11649.592015</td>\n",
       "      <td>11893.453736</td>\n",
       "      <td>2698.751137</td>\n",
       "      <td>99.887433</td>\n",
       "      <td>26341.684321</td>\n",
       "      <td>2019-01-01 01:00:00</td>\n",
       "      <td>2019</td>\n",
       "      <td>1</td>\n",
       "      <td>1</td>\n",
       "      <td>1</td>\n",
       "    </tr>\n",
       "    <tr>\n",
       "      <th>2</th>\n",
       "      <td>11875.814143</td>\n",
       "      <td>11992.329483</td>\n",
       "      <td>2777.672120</td>\n",
       "      <td>99.879848</td>\n",
       "      <td>26745.695594</td>\n",
       "      <td>2019-01-01 02:00:00</td>\n",
       "      <td>2019</td>\n",
       "      <td>1</td>\n",
       "      <td>1</td>\n",
       "      <td>2</td>\n",
       "    </tr>\n",
       "    <tr>\n",
       "      <th>3</th>\n",
       "      <td>11997.283952</td>\n",
       "      <td>12030.146692</td>\n",
       "      <td>2799.193829</td>\n",
       "      <td>99.243393</td>\n",
       "      <td>26925.867866</td>\n",
       "      <td>2019-01-01 03:00:00</td>\n",
       "      <td>2019</td>\n",
       "      <td>1</td>\n",
       "      <td>1</td>\n",
       "      <td>3</td>\n",
       "    </tr>\n",
       "    <tr>\n",
       "      <th>4</th>\n",
       "      <td>11688.500889</td>\n",
       "      <td>11692.302915</td>\n",
       "      <td>2761.883322</td>\n",
       "      <td>98.852646</td>\n",
       "      <td>26241.539771</td>\n",
       "      <td>2019-01-01 04:00:00</td>\n",
       "      <td>2019</td>\n",
       "      <td>1</td>\n",
       "      <td>1</td>\n",
       "      <td>4</td>\n",
       "    </tr>\n",
       "    <tr>\n",
       "      <th>...</th>\n",
       "      <td>...</td>\n",
       "      <td>...</td>\n",
       "      <td>...</td>\n",
       "      <td>...</td>\n",
       "      <td>...</td>\n",
       "      <td>...</td>\n",
       "      <td>...</td>\n",
       "      <td>...</td>\n",
       "      <td>...</td>\n",
       "      <td>...</td>\n",
       "    </tr>\n",
       "    <tr>\n",
       "      <th>35059</th>\n",
       "      <td>9713.140000</td>\n",
       "      <td>8830.890000</td>\n",
       "      <td>1848.860000</td>\n",
       "      <td>59.980000</td>\n",
       "      <td>20452.860000</td>\n",
       "      <td>2022-12-31 19:00:00</td>\n",
       "      <td>2022</td>\n",
       "      <td>12</td>\n",
       "      <td>31</td>\n",
       "      <td>19</td>\n",
       "    </tr>\n",
       "    <tr>\n",
       "      <th>35060</th>\n",
       "      <td>9833.260000</td>\n",
       "      <td>8994.520000</td>\n",
       "      <td>1857.700000</td>\n",
       "      <td>59.210000</td>\n",
       "      <td>20744.690000</td>\n",
       "      <td>2022-12-31 20:00:00</td>\n",
       "      <td>2022</td>\n",
       "      <td>12</td>\n",
       "      <td>31</td>\n",
       "      <td>20</td>\n",
       "    </tr>\n",
       "    <tr>\n",
       "      <th>35061</th>\n",
       "      <td>9781.560000</td>\n",
       "      <td>9632.460000</td>\n",
       "      <td>2035.800000</td>\n",
       "      <td>58.680000</td>\n",
       "      <td>21508.500000</td>\n",
       "      <td>2022-12-31 21:00:00</td>\n",
       "      <td>2022</td>\n",
       "      <td>12</td>\n",
       "      <td>31</td>\n",
       "      <td>21</td>\n",
       "    </tr>\n",
       "    <tr>\n",
       "      <th>35062</th>\n",
       "      <td>11282.210000</td>\n",
       "      <td>10547.930000</td>\n",
       "      <td>2080.700000</td>\n",
       "      <td>60.320000</td>\n",
       "      <td>23971.170000</td>\n",
       "      <td>2022-12-31 22:00:00</td>\n",
       "      <td>2022</td>\n",
       "      <td>12</td>\n",
       "      <td>31</td>\n",
       "      <td>22</td>\n",
       "    </tr>\n",
       "    <tr>\n",
       "      <th>35063</th>\n",
       "      <td>11115.360000</td>\n",
       "      <td>10624.570000</td>\n",
       "      <td>2040.010000</td>\n",
       "      <td>64.440000</td>\n",
       "      <td>23844.380000</td>\n",
       "      <td>2022-12-31 23:00:00</td>\n",
       "      <td>2022</td>\n",
       "      <td>12</td>\n",
       "      <td>31</td>\n",
       "      <td>23</td>\n",
       "    </tr>\n",
       "  </tbody>\n",
       "</table>\n",
       "<p>35064 rows × 10 columns</p>\n",
       "</div>"
      ],
      "text/plain": [
       "                PGE           SCE         SDGE        VEA         CAISO  \\\n",
       "0      10543.794826  10829.111952  2372.497411  95.325563  23840.729751   \n",
       "1      11649.592015  11893.453736  2698.751137  99.887433  26341.684321   \n",
       "2      11875.814143  11992.329483  2777.672120  99.879848  26745.695594   \n",
       "3      11997.283952  12030.146692  2799.193829  99.243393  26925.867866   \n",
       "4      11688.500889  11692.302915  2761.883322  98.852646  26241.539771   \n",
       "...             ...           ...          ...        ...           ...   \n",
       "35059   9713.140000   8830.890000  1848.860000  59.980000  20452.860000   \n",
       "35060   9833.260000   8994.520000  1857.700000  59.210000  20744.690000   \n",
       "35061   9781.560000   9632.460000  2035.800000  58.680000  21508.500000   \n",
       "35062  11282.210000  10547.930000  2080.700000  60.320000  23971.170000   \n",
       "35063  11115.360000  10624.570000  2040.010000  64.440000  23844.380000   \n",
       "\n",
       "                 datetime  year  month  day  hour  \n",
       "0     2019-01-01 00:00:00  2019      1    1     0  \n",
       "1     2019-01-01 01:00:00  2019      1    1     1  \n",
       "2     2019-01-01 02:00:00  2019      1    1     2  \n",
       "3     2019-01-01 03:00:00  2019      1    1     3  \n",
       "4     2019-01-01 04:00:00  2019      1    1     4  \n",
       "...                   ...   ...    ...  ...   ...  \n",
       "35059 2022-12-31 19:00:00  2022     12   31    19  \n",
       "35060 2022-12-31 20:00:00  2022     12   31    20  \n",
       "35061 2022-12-31 21:00:00  2022     12   31    21  \n",
       "35062 2022-12-31 22:00:00  2022     12   31    22  \n",
       "35063 2022-12-31 23:00:00  2022     12   31    23  \n",
       "\n",
       "[35064 rows x 10 columns]"
      ]
     },
     "execution_count": 32,
     "metadata": {},
     "output_type": "execute_result"
    }
   ],
   "source": [
    "hourly"
   ]
  },
  {
   "cell_type": "code",
   "execution_count": 33,
   "metadata": {
    "colab": {
     "base_uri": "https://localhost:8080/",
     "height": 608
    },
    "id": "_CvO4UlXG1xr",
    "outputId": "78f6aeca-beaf-469b-b864-29bd23c01652"
   },
   "outputs": [
    {
     "data": {
      "image/png": "[encoded data removed]",
      "text/plain": [
       "<Figure size 1200x700 with 5 Axes>"
      ]
     },
     "metadata": {},
     "output_type": "display_data"
    }
   ],
   "source": [
    "hourly.set_index('datetime')[['PGE','SCE','SDGE','VEA','CAISO']].plot(subplots = True, figsize = (12,7))\n",
    "[ax.legend(loc = 1) for ax in plt.gcf().axes]\n",
    "plt.suptitle('Energy consumption in MWH of all the utilities in CAISO region including the CAISO total')\n",
    "plt.tight_layout()\n",
    "plt.subplots_adjust(top = 0.95)"
   ]
  },
  {
   "cell_type": "code",
   "execution_count": 34,
   "metadata": {
    "colab": {
     "base_uri": "https://localhost:8080/",
     "height": 328
    },
    "id": "o4j7hcXeEqo4",
    "outputId": "0ab20f3a-870f-489b-e89e-e4e98c50d04b"
   },
   "outputs": [
    {
     "data": {
      "text/html": [
       "<div>\n",
       "<style scoped>\n",
       "    .dataframe tbody tr th:only-of-type {\n",
       "        vertical-align: middle;\n",
       "    }\n",
       "\n",
       "    .dataframe tbody tr th {\n",
       "        vertical-align: top;\n",
       "    }\n",
       "\n",
       "    .dataframe thead th {\n",
       "        text-align: right;\n",
       "    }\n",
       "</style>\n",
       "<table border=\"1\" class=\"dataframe\">\n",
       "  <thead>\n",
       "    <tr style=\"text-align: right;\">\n",
       "      <th></th>\n",
       "      <th>count</th>\n",
       "      <th>mean</th>\n",
       "      <th>min</th>\n",
       "      <th>25%</th>\n",
       "      <th>50%</th>\n",
       "      <th>75%</th>\n",
       "      <th>max</th>\n",
       "      <th>std</th>\n",
       "    </tr>\n",
       "  </thead>\n",
       "  <tbody>\n",
       "    <tr>\n",
       "      <th>PGE</th>\n",
       "      <td>35064.0</td>\n",
       "      <td>11377.011798</td>\n",
       "      <td>5768.62</td>\n",
       "      <td>9950.271805</td>\n",
       "      <td>11042.388425</td>\n",
       "      <td>12271.0525</td>\n",
       "      <td>22379.07</td>\n",
       "      <td>2018.506825</td>\n",
       "    </tr>\n",
       "    <tr>\n",
       "      <th>SCE</th>\n",
       "      <td>35064.0</td>\n",
       "      <td>11574.389346</td>\n",
       "      <td>6818.951874</td>\n",
       "      <td>9790.111622</td>\n",
       "      <td>10962.4</td>\n",
       "      <td>12396.124513</td>\n",
       "      <td>24658.58</td>\n",
       "      <td>2598.870305</td>\n",
       "    </tr>\n",
       "    <tr>\n",
       "      <th>SDGE</th>\n",
       "      <td>35064.0</td>\n",
       "      <td>2181.521902</td>\n",
       "      <td>840.176104</td>\n",
       "      <td>1870.028306</td>\n",
       "      <td>2114.49</td>\n",
       "      <td>2423.938365</td>\n",
       "      <td>4651.75</td>\n",
       "      <td>443.174409</td>\n",
       "    </tr>\n",
       "    <tr>\n",
       "      <th>VEA</th>\n",
       "      <td>35064.0</td>\n",
       "      <td>68.061186</td>\n",
       "      <td>2.48</td>\n",
       "      <td>51.680734</td>\n",
       "      <td>62.884284</td>\n",
       "      <td>80.666632</td>\n",
       "      <td>150.75</td>\n",
       "      <td>21.026325</td>\n",
       "    </tr>\n",
       "    <tr>\n",
       "      <th>CAISO</th>\n",
       "      <td>35064.0</td>\n",
       "      <td>25200.965943</td>\n",
       "      <td>14779.08</td>\n",
       "      <td>21757.852585</td>\n",
       "      <td>24192.424396</td>\n",
       "      <td>27154.524122</td>\n",
       "      <td>51479.0</td>\n",
       "      <td>4880.006282</td>\n",
       "    </tr>\n",
       "    <tr>\n",
       "      <th>datetime</th>\n",
       "      <td>35064</td>\n",
       "      <td>2020-12-31 11:30:00</td>\n",
       "      <td>2019-01-01 00:00:00</td>\n",
       "      <td>2020-01-01 05:45:00</td>\n",
       "      <td>2020-12-31 11:30:00</td>\n",
       "      <td>2021-12-31 17:15:00</td>\n",
       "      <td>2022-12-31 23:00:00</td>\n",
       "      <td>NaN</td>\n",
       "    </tr>\n",
       "    <tr>\n",
       "      <th>year</th>\n",
       "      <td>35064.0</td>\n",
       "      <td>2020.499658</td>\n",
       "      <td>2019.0</td>\n",
       "      <td>2020.0</td>\n",
       "      <td>2020.0</td>\n",
       "      <td>2021.0</td>\n",
       "      <td>2022.0</td>\n",
       "      <td>1.117744</td>\n",
       "    </tr>\n",
       "    <tr>\n",
       "      <th>month</th>\n",
       "      <td>35064.0</td>\n",
       "      <td>6.52293</td>\n",
       "      <td>1.0</td>\n",
       "      <td>4.0</td>\n",
       "      <td>7.0</td>\n",
       "      <td>10.0</td>\n",
       "      <td>12.0</td>\n",
       "      <td>3.448752</td>\n",
       "    </tr>\n",
       "    <tr>\n",
       "      <th>day</th>\n",
       "      <td>35064.0</td>\n",
       "      <td>15.729637</td>\n",
       "      <td>1.0</td>\n",
       "      <td>8.0</td>\n",
       "      <td>16.0</td>\n",
       "      <td>23.0</td>\n",
       "      <td>31.0</td>\n",
       "      <td>8.800218</td>\n",
       "    </tr>\n",
       "    <tr>\n",
       "      <th>hour</th>\n",
       "      <td>35064.0</td>\n",
       "      <td>11.5</td>\n",
       "      <td>0.0</td>\n",
       "      <td>5.75</td>\n",
       "      <td>11.5</td>\n",
       "      <td>17.25</td>\n",
       "      <td>23.0</td>\n",
       "      <td>6.922285</td>\n",
       "    </tr>\n",
       "  </tbody>\n",
       "</table>\n",
       "</div>"
      ],
      "text/plain": [
       "            count                 mean                  min  \\\n",
       "PGE       35064.0         11377.011798              5768.62   \n",
       "SCE       35064.0         11574.389346          6818.951874   \n",
       "SDGE      35064.0          2181.521902           840.176104   \n",
       "VEA       35064.0            68.061186                 2.48   \n",
       "CAISO     35064.0         25200.965943             14779.08   \n",
       "datetime    35064  2020-12-31 11:30:00  2019-01-01 00:00:00   \n",
       "year      35064.0          2020.499658               2019.0   \n",
       "month     35064.0              6.52293                  1.0   \n",
       "day       35064.0            15.729637                  1.0   \n",
       "hour      35064.0                 11.5                  0.0   \n",
       "\n",
       "                          25%                  50%                  75%  \\\n",
       "PGE               9950.271805         11042.388425           12271.0525   \n",
       "SCE               9790.111622              10962.4         12396.124513   \n",
       "SDGE              1870.028306              2114.49          2423.938365   \n",
       "VEA                 51.680734            62.884284            80.666632   \n",
       "CAISO            21757.852585         24192.424396         27154.524122   \n",
       "datetime  2020-01-01 05:45:00  2020-12-31 11:30:00  2021-12-31 17:15:00   \n",
       "year                   2020.0               2020.0               2021.0   \n",
       "month                     4.0                  7.0                 10.0   \n",
       "day                       8.0                 16.0                 23.0   \n",
       "hour                     5.75                 11.5                17.25   \n",
       "\n",
       "                          max          std  \n",
       "PGE                  22379.07  2018.506825  \n",
       "SCE                  24658.58  2598.870305  \n",
       "SDGE                  4651.75   443.174409  \n",
       "VEA                    150.75    21.026325  \n",
       "CAISO                 51479.0  4880.006282  \n",
       "datetime  2022-12-31 23:00:00          NaN  \n",
       "year                   2022.0     1.117744  \n",
       "month                    12.0     3.448752  \n",
       "day                      31.0     8.800218  \n",
       "hour                     23.0     6.922285  "
      ]
     },
     "execution_count": 34,
     "metadata": {},
     "output_type": "execute_result"
    }
   ],
   "source": [
    "hourly.describe().T"
   ]
  },
  {
   "cell_type": "markdown",
   "metadata": {
    "id": "IjDvHxVUg3w1"
   },
   "source": []
  },
  {
   "cell_type": "code",
   "execution_count": 35,
   "metadata": {
    "id": "YqA38nxrfwE2"
   },
   "outputs": [],
   "source": [
    "#Saving df as csv\n",
    "hourly.to_csv('hourly_energy.csv')"
   ]
  },
  {
   "cell_type": "markdown",
   "metadata": {
    "id": "ExNiqU_QgOCY"
   },
   "source": [
    "# Feature Engineering Data\n",
    "\n",
    "1.   Will be focused on Sandiego Energy and Gas utility\n",
    "2.   Weather patterns are easier to catch in small area\n",
    "3.   Other CAISO companies distribution isnt constat across all areas\n",
    "\n"
   ]
  },
  {
   "cell_type": "code",
   "execution_count": 36,
   "metadata": {
    "id": "AzpJkz8ggNyP"
   },
   "outputs": [],
   "source": [
    "SDGE_hr = pd.read_csv('hourly_energy.csv',usecols=['datetime','SDGE'], parse_dates=['datetime'])"
   ]
  },
  {
   "cell_type": "code",
   "execution_count": 37,
   "metadata": {
    "colab": {
     "base_uri": "https://localhost:8080/",
     "height": 204
    },
    "id": "k_gca12LgMcp",
    "outputId": "d19b7a15-fab8-4466-8a6c-75b933525f3d"
   },
   "outputs": [
    {
     "data": {
      "text/html": [
       "<div>\n",
       "<style scoped>\n",
       "    .dataframe tbody tr th:only-of-type {\n",
       "        vertical-align: middle;\n",
       "    }\n",
       "\n",
       "    .dataframe tbody tr th {\n",
       "        vertical-align: top;\n",
       "    }\n",
       "\n",
       "    .dataframe thead th {\n",
       "        text-align: right;\n",
       "    }\n",
       "</style>\n",
       "<table border=\"1\" class=\"dataframe\">\n",
       "  <thead>\n",
       "    <tr style=\"text-align: right;\">\n",
       "      <th></th>\n",
       "      <th>SDGE</th>\n",
       "      <th>datetime</th>\n",
       "    </tr>\n",
       "  </thead>\n",
       "  <tbody>\n",
       "    <tr>\n",
       "      <th>0</th>\n",
       "      <td>2372.497411</td>\n",
       "      <td>2019-01-01 00:00:00</td>\n",
       "    </tr>\n",
       "    <tr>\n",
       "      <th>1</th>\n",
       "      <td>2698.751137</td>\n",
       "      <td>2019-01-01 01:00:00</td>\n",
       "    </tr>\n",
       "    <tr>\n",
       "      <th>2</th>\n",
       "      <td>2777.672120</td>\n",
       "      <td>2019-01-01 02:00:00</td>\n",
       "    </tr>\n",
       "    <tr>\n",
       "      <th>3</th>\n",
       "      <td>2799.193829</td>\n",
       "      <td>2019-01-01 03:00:00</td>\n",
       "    </tr>\n",
       "    <tr>\n",
       "      <th>4</th>\n",
       "      <td>2761.883322</td>\n",
       "      <td>2019-01-01 04:00:00</td>\n",
       "    </tr>\n",
       "  </tbody>\n",
       "</table>\n",
       "</div>"
      ],
      "text/plain": [
       "          SDGE            datetime\n",
       "0  2372.497411 2019-01-01 00:00:00\n",
       "1  2698.751137 2019-01-01 01:00:00\n",
       "2  2777.672120 2019-01-01 02:00:00\n",
       "3  2799.193829 2019-01-01 03:00:00\n",
       "4  2761.883322 2019-01-01 04:00:00"
      ]
     },
     "execution_count": 37,
     "metadata": {},
     "output_type": "execute_result"
    }
   ],
   "source": [
    "SDGE_hr.head()"
   ]
  },
  {
   "cell_type": "code",
   "execution_count": 38,
   "metadata": {
    "id": "6wPWcwVyh6rD"
   },
   "outputs": [],
   "source": [
    "SDGE_hr['Date'] = pd.to_datetime(SDGE_hr['datetime'])\n",
    "SDGE_hr = SDGE_hr.set_index(['datetime'])"
   ]
  },
  {
   "cell_type": "code",
   "execution_count": 39,
   "metadata": {
    "id": "4blHV10HgMZ6"
   },
   "outputs": [],
   "source": [
    "def season_calc(month):\n",
    "    \"\"\"adding season based on the data on SDGE's site -> https://www.sdge.com/whenmatters#how-it-works;\n",
    "       months from June to October are denoted as 'summer' and months from November to May as 'winter'. \"\"\"\n",
    "    if month in [6,7,8,9,10]:\n",
    "        return \"summer\"\n",
    "    else:\n",
    "        return \"winter\""
   ]
  },
  {
   "cell_type": "code",
   "execution_count": 40,
   "metadata": {
    "id": "qcH0hnXPgMXi"
   },
   "outputs": [],
   "source": [
    "weekdays = {0:'Monday', 1:'Tuesday', 2:'Wednesday', 3: 'Thursday', 4: 'Friday', 5:'Saturday', 6:'Sunday'}\n",
    "SDGE_hr['year'] = SDGE_hr.Date.dt.year\n",
    "SDGE_hr['month'] = SDGE_hr.Date.dt.month\n",
    "SDGE_hr['day'] = SDGE_hr.Date.dt.day\n",
    "SDGE_hr['hour'] = SDGE_hr.Date.dt.hour\n",
    "SDGE_hr['weekday'] = SDGE_hr.Date.dt.weekday.map(weekdays)\n",
    "SDGE_hr['season'] = SDGE_hr.Date.dt.month.apply(season_calc)"
   ]
  },
  {
   "cell_type": "code",
   "execution_count": 41,
   "metadata": {
    "colab": {
     "base_uri": "https://localhost:8080/",
     "height": 297
    },
    "id": "0j2cYVrFr_Lk",
    "outputId": "49cbe87d-5bd0-494e-faa9-65c2f52d7dd6"
   },
   "outputs": [
    {
     "data": {
      "text/html": [
       "<div>\n",
       "<style scoped>\n",
       "    .dataframe tbody tr th:only-of-type {\n",
       "        vertical-align: middle;\n",
       "    }\n",
       "\n",
       "    .dataframe tbody tr th {\n",
       "        vertical-align: top;\n",
       "    }\n",
       "\n",
       "    .dataframe thead th {\n",
       "        text-align: right;\n",
       "    }\n",
       "</style>\n",
       "<table border=\"1\" class=\"dataframe\">\n",
       "  <thead>\n",
       "    <tr style=\"text-align: right;\">\n",
       "      <th></th>\n",
       "      <th>SDGE</th>\n",
       "      <th>Date</th>\n",
       "      <th>year</th>\n",
       "      <th>month</th>\n",
       "      <th>day</th>\n",
       "      <th>hour</th>\n",
       "    </tr>\n",
       "  </thead>\n",
       "  <tbody>\n",
       "    <tr>\n",
       "      <th>count</th>\n",
       "      <td>35064.000000</td>\n",
       "      <td>35064</td>\n",
       "      <td>35064.000000</td>\n",
       "      <td>35064.000000</td>\n",
       "      <td>35064.000000</td>\n",
       "      <td>35064.000000</td>\n",
       "    </tr>\n",
       "    <tr>\n",
       "      <th>mean</th>\n",
       "      <td>2181.521902</td>\n",
       "      <td>2020-12-31 11:30:00</td>\n",
       "      <td>2020.499658</td>\n",
       "      <td>6.522930</td>\n",
       "      <td>15.729637</td>\n",
       "      <td>11.500000</td>\n",
       "    </tr>\n",
       "    <tr>\n",
       "      <th>min</th>\n",
       "      <td>840.176104</td>\n",
       "      <td>2019-01-01 00:00:00</td>\n",
       "      <td>2019.000000</td>\n",
       "      <td>1.000000</td>\n",
       "      <td>1.000000</td>\n",
       "      <td>0.000000</td>\n",
       "    </tr>\n",
       "    <tr>\n",
       "      <th>25%</th>\n",
       "      <td>1870.028306</td>\n",
       "      <td>2020-01-01 05:45:00</td>\n",
       "      <td>2020.000000</td>\n",
       "      <td>4.000000</td>\n",
       "      <td>8.000000</td>\n",
       "      <td>5.750000</td>\n",
       "    </tr>\n",
       "    <tr>\n",
       "      <th>50%</th>\n",
       "      <td>2114.490000</td>\n",
       "      <td>2020-12-31 11:30:00</td>\n",
       "      <td>2020.000000</td>\n",
       "      <td>7.000000</td>\n",
       "      <td>16.000000</td>\n",
       "      <td>11.500000</td>\n",
       "    </tr>\n",
       "    <tr>\n",
       "      <th>75%</th>\n",
       "      <td>2423.938365</td>\n",
       "      <td>2021-12-31 17:15:00</td>\n",
       "      <td>2021.000000</td>\n",
       "      <td>10.000000</td>\n",
       "      <td>23.000000</td>\n",
       "      <td>17.250000</td>\n",
       "    </tr>\n",
       "    <tr>\n",
       "      <th>max</th>\n",
       "      <td>4651.750000</td>\n",
       "      <td>2022-12-31 23:00:00</td>\n",
       "      <td>2022.000000</td>\n",
       "      <td>12.000000</td>\n",
       "      <td>31.000000</td>\n",
       "      <td>23.000000</td>\n",
       "    </tr>\n",
       "    <tr>\n",
       "      <th>std</th>\n",
       "      <td>443.174409</td>\n",
       "      <td>NaN</td>\n",
       "      <td>1.117744</td>\n",
       "      <td>3.448752</td>\n",
       "      <td>8.800218</td>\n",
       "      <td>6.922285</td>\n",
       "    </tr>\n",
       "  </tbody>\n",
       "</table>\n",
       "</div>"
      ],
      "text/plain": [
       "               SDGE                 Date          year         month  \\\n",
       "count  35064.000000                35064  35064.000000  35064.000000   \n",
       "mean    2181.521902  2020-12-31 11:30:00   2020.499658      6.522930   \n",
       "min      840.176104  2019-01-01 00:00:00   2019.000000      1.000000   \n",
       "25%     1870.028306  2020-01-01 05:45:00   2020.000000      4.000000   \n",
       "50%     2114.490000  2020-12-31 11:30:00   2020.000000      7.000000   \n",
       "75%     2423.938365  2021-12-31 17:15:00   2021.000000     10.000000   \n",
       "max     4651.750000  2022-12-31 23:00:00   2022.000000     12.000000   \n",
       "std      443.174409                  NaN      1.117744      3.448752   \n",
       "\n",
       "                day          hour  \n",
       "count  35064.000000  35064.000000  \n",
       "mean      15.729637     11.500000  \n",
       "min        1.000000      0.000000  \n",
       "25%        8.000000      5.750000  \n",
       "50%       16.000000     11.500000  \n",
       "75%       23.000000     17.250000  \n",
       "max       31.000000     23.000000  \n",
       "std        8.800218      6.922285  "
      ]
     },
     "execution_count": 41,
     "metadata": {},
     "output_type": "execute_result"
    }
   ],
   "source": [
    "SDGE_hr.describe()"
   ]
  },
  {
   "cell_type": "code",
   "execution_count": 42,
   "metadata": {
    "colab": {
     "base_uri": "https://localhost:8080/",
     "height": 450
    },
    "id": "c7VXBely0gG5",
    "outputId": "98523672-4a2d-491c-9c82-87e8b75f3aec"
   },
   "outputs": [
    {
     "data": {
      "text/html": [
       "<div>\n",
       "<style scoped>\n",
       "    .dataframe tbody tr th:only-of-type {\n",
       "        vertical-align: middle;\n",
       "    }\n",
       "\n",
       "    .dataframe tbody tr th {\n",
       "        vertical-align: top;\n",
       "    }\n",
       "\n",
       "    .dataframe thead th {\n",
       "        text-align: right;\n",
       "    }\n",
       "</style>\n",
       "<table border=\"1\" class=\"dataframe\">\n",
       "  <thead>\n",
       "    <tr style=\"text-align: right;\">\n",
       "      <th></th>\n",
       "      <th>SDGE</th>\n",
       "      <th>Date</th>\n",
       "      <th>year</th>\n",
       "      <th>month</th>\n",
       "      <th>day</th>\n",
       "      <th>hour</th>\n",
       "      <th>weekday</th>\n",
       "      <th>season</th>\n",
       "    </tr>\n",
       "    <tr>\n",
       "      <th>datetime</th>\n",
       "      <th></th>\n",
       "      <th></th>\n",
       "      <th></th>\n",
       "      <th></th>\n",
       "      <th></th>\n",
       "      <th></th>\n",
       "      <th></th>\n",
       "      <th></th>\n",
       "    </tr>\n",
       "  </thead>\n",
       "  <tbody>\n",
       "    <tr>\n",
       "      <th>2019-01-01 00:00:00</th>\n",
       "      <td>2372.497411</td>\n",
       "      <td>2019-01-01 00:00:00</td>\n",
       "      <td>2019</td>\n",
       "      <td>1</td>\n",
       "      <td>1</td>\n",
       "      <td>0</td>\n",
       "      <td>Tuesday</td>\n",
       "      <td>winter</td>\n",
       "    </tr>\n",
       "    <tr>\n",
       "      <th>2019-01-01 01:00:00</th>\n",
       "      <td>2698.751137</td>\n",
       "      <td>2019-01-01 01:00:00</td>\n",
       "      <td>2019</td>\n",
       "      <td>1</td>\n",
       "      <td>1</td>\n",
       "      <td>1</td>\n",
       "      <td>Tuesday</td>\n",
       "      <td>winter</td>\n",
       "    </tr>\n",
       "    <tr>\n",
       "      <th>2019-01-01 02:00:00</th>\n",
       "      <td>2777.672120</td>\n",
       "      <td>2019-01-01 02:00:00</td>\n",
       "      <td>2019</td>\n",
       "      <td>1</td>\n",
       "      <td>1</td>\n",
       "      <td>2</td>\n",
       "      <td>Tuesday</td>\n",
       "      <td>winter</td>\n",
       "    </tr>\n",
       "    <tr>\n",
       "      <th>2019-01-01 03:00:00</th>\n",
       "      <td>2799.193829</td>\n",
       "      <td>2019-01-01 03:00:00</td>\n",
       "      <td>2019</td>\n",
       "      <td>1</td>\n",
       "      <td>1</td>\n",
       "      <td>3</td>\n",
       "      <td>Tuesday</td>\n",
       "      <td>winter</td>\n",
       "    </tr>\n",
       "    <tr>\n",
       "      <th>2019-01-01 04:00:00</th>\n",
       "      <td>2761.883322</td>\n",
       "      <td>2019-01-01 04:00:00</td>\n",
       "      <td>2019</td>\n",
       "      <td>1</td>\n",
       "      <td>1</td>\n",
       "      <td>4</td>\n",
       "      <td>Tuesday</td>\n",
       "      <td>winter</td>\n",
       "    </tr>\n",
       "    <tr>\n",
       "      <th>...</th>\n",
       "      <td>...</td>\n",
       "      <td>...</td>\n",
       "      <td>...</td>\n",
       "      <td>...</td>\n",
       "      <td>...</td>\n",
       "      <td>...</td>\n",
       "      <td>...</td>\n",
       "      <td>...</td>\n",
       "    </tr>\n",
       "    <tr>\n",
       "      <th>2022-12-31 19:00:00</th>\n",
       "      <td>1848.860000</td>\n",
       "      <td>2022-12-31 19:00:00</td>\n",
       "      <td>2022</td>\n",
       "      <td>12</td>\n",
       "      <td>31</td>\n",
       "      <td>19</td>\n",
       "      <td>Saturday</td>\n",
       "      <td>winter</td>\n",
       "    </tr>\n",
       "    <tr>\n",
       "      <th>2022-12-31 20:00:00</th>\n",
       "      <td>1857.700000</td>\n",
       "      <td>2022-12-31 20:00:00</td>\n",
       "      <td>2022</td>\n",
       "      <td>12</td>\n",
       "      <td>31</td>\n",
       "      <td>20</td>\n",
       "      <td>Saturday</td>\n",
       "      <td>winter</td>\n",
       "    </tr>\n",
       "    <tr>\n",
       "      <th>2022-12-31 21:00:00</th>\n",
       "      <td>2035.800000</td>\n",
       "      <td>2022-12-31 21:00:00</td>\n",
       "      <td>2022</td>\n",
       "      <td>12</td>\n",
       "      <td>31</td>\n",
       "      <td>21</td>\n",
       "      <td>Saturday</td>\n",
       "      <td>winter</td>\n",
       "    </tr>\n",
       "    <tr>\n",
       "      <th>2022-12-31 22:00:00</th>\n",
       "      <td>2080.700000</td>\n",
       "      <td>2022-12-31 22:00:00</td>\n",
       "      <td>2022</td>\n",
       "      <td>12</td>\n",
       "      <td>31</td>\n",
       "      <td>22</td>\n",
       "      <td>Saturday</td>\n",
       "      <td>winter</td>\n",
       "    </tr>\n",
       "    <tr>\n",
       "      <th>2022-12-31 23:00:00</th>\n",
       "      <td>2040.010000</td>\n",
       "      <td>2022-12-31 23:00:00</td>\n",
       "      <td>2022</td>\n",
       "      <td>12</td>\n",
       "      <td>31</td>\n",
       "      <td>23</td>\n",
       "      <td>Saturday</td>\n",
       "      <td>winter</td>\n",
       "    </tr>\n",
       "  </tbody>\n",
       "</table>\n",
       "<p>35064 rows × 8 columns</p>\n",
       "</div>"
      ],
      "text/plain": [
       "                            SDGE                Date  year  month  day  hour  \\\n",
       "datetime                                                                       \n",
       "2019-01-01 00:00:00  2372.497411 2019-01-01 00:00:00  2019      1    1     0   \n",
       "2019-01-01 01:00:00  2698.751137 2019-01-01 01:00:00  2019      1    1     1   \n",
       "2019-01-01 02:00:00  2777.672120 2019-01-01 02:00:00  2019      1    1     2   \n",
       "2019-01-01 03:00:00  2799.193829 2019-01-01 03:00:00  2019      1    1     3   \n",
       "2019-01-01 04:00:00  2761.883322 2019-01-01 04:00:00  2019      1    1     4   \n",
       "...                          ...                 ...   ...    ...  ...   ...   \n",
       "2022-12-31 19:00:00  1848.860000 2022-12-31 19:00:00  2022     12   31    19   \n",
       "2022-12-31 20:00:00  1857.700000 2022-12-31 20:00:00  2022     12   31    20   \n",
       "2022-12-31 21:00:00  2035.800000 2022-12-31 21:00:00  2022     12   31    21   \n",
       "2022-12-31 22:00:00  2080.700000 2022-12-31 22:00:00  2022     12   31    22   \n",
       "2022-12-31 23:00:00  2040.010000 2022-12-31 23:00:00  2022     12   31    23   \n",
       "\n",
       "                      weekday  season  \n",
       "datetime                               \n",
       "2019-01-01 00:00:00   Tuesday  winter  \n",
       "2019-01-01 01:00:00   Tuesday  winter  \n",
       "2019-01-01 02:00:00   Tuesday  winter  \n",
       "2019-01-01 03:00:00   Tuesday  winter  \n",
       "2019-01-01 04:00:00   Tuesday  winter  \n",
       "...                       ...     ...  \n",
       "2022-12-31 19:00:00  Saturday  winter  \n",
       "2022-12-31 20:00:00  Saturday  winter  \n",
       "2022-12-31 21:00:00  Saturday  winter  \n",
       "2022-12-31 22:00:00  Saturday  winter  \n",
       "2022-12-31 23:00:00  Saturday  winter  \n",
       "\n",
       "[35064 rows x 8 columns]"
      ]
     },
     "execution_count": 42,
     "metadata": {},
     "output_type": "execute_result"
    }
   ],
   "source": [
    "SDGE_hr"
   ]
  },
  {
   "cell_type": "code",
   "execution_count": 43,
   "metadata": {
    "id": "o3JjQT33hgvf"
   },
   "outputs": [],
   "source": [
    "#Adding holidays column to indicate whether a day was a holiday as per the US calendar or not\n",
    "cal = calendar()\n",
    "holidays = cal.holidays(start = SDGE_hr['Date'].min(), end = SDGE_hr['Date'].max())\n",
    "SDGE_hr['holiday'] = SDGE_hr['Date'].isin(holidays)"
   ]
  },
  {
   "cell_type": "code",
   "execution_count": 44,
   "metadata": {
    "colab": {
     "base_uri": "https://localhost:8080/",
     "height": 235
    },
    "id": "WB8IYNwGhgfy",
    "outputId": "9922c560-0d5a-4082-b080-dbf65649dfd4"
   },
   "outputs": [
    {
     "data": {
      "text/html": [
       "<div>\n",
       "<style scoped>\n",
       "    .dataframe tbody tr th:only-of-type {\n",
       "        vertical-align: middle;\n",
       "    }\n",
       "\n",
       "    .dataframe tbody tr th {\n",
       "        vertical-align: top;\n",
       "    }\n",
       "\n",
       "    .dataframe thead th {\n",
       "        text-align: right;\n",
       "    }\n",
       "</style>\n",
       "<table border=\"1\" class=\"dataframe\">\n",
       "  <thead>\n",
       "    <tr style=\"text-align: right;\">\n",
       "      <th></th>\n",
       "      <th>SDGE</th>\n",
       "      <th>Date</th>\n",
       "      <th>year</th>\n",
       "      <th>month</th>\n",
       "      <th>day</th>\n",
       "      <th>hour</th>\n",
       "      <th>weekday</th>\n",
       "      <th>season</th>\n",
       "      <th>holiday</th>\n",
       "    </tr>\n",
       "    <tr>\n",
       "      <th>datetime</th>\n",
       "      <th></th>\n",
       "      <th></th>\n",
       "      <th></th>\n",
       "      <th></th>\n",
       "      <th></th>\n",
       "      <th></th>\n",
       "      <th></th>\n",
       "      <th></th>\n",
       "      <th></th>\n",
       "    </tr>\n",
       "  </thead>\n",
       "  <tbody>\n",
       "    <tr>\n",
       "      <th>2019-01-01 00:00:00</th>\n",
       "      <td>2372.497411</td>\n",
       "      <td>2019-01-01 00:00:00</td>\n",
       "      <td>2019</td>\n",
       "      <td>1</td>\n",
       "      <td>1</td>\n",
       "      <td>0</td>\n",
       "      <td>Tuesday</td>\n",
       "      <td>winter</td>\n",
       "      <td>1</td>\n",
       "    </tr>\n",
       "    <tr>\n",
       "      <th>2019-01-01 01:00:00</th>\n",
       "      <td>2698.751137</td>\n",
       "      <td>2019-01-01 01:00:00</td>\n",
       "      <td>2019</td>\n",
       "      <td>1</td>\n",
       "      <td>1</td>\n",
       "      <td>1</td>\n",
       "      <td>Tuesday</td>\n",
       "      <td>winter</td>\n",
       "      <td>0</td>\n",
       "    </tr>\n",
       "    <tr>\n",
       "      <th>2019-01-01 02:00:00</th>\n",
       "      <td>2777.672120</td>\n",
       "      <td>2019-01-01 02:00:00</td>\n",
       "      <td>2019</td>\n",
       "      <td>1</td>\n",
       "      <td>1</td>\n",
       "      <td>2</td>\n",
       "      <td>Tuesday</td>\n",
       "      <td>winter</td>\n",
       "      <td>0</td>\n",
       "    </tr>\n",
       "    <tr>\n",
       "      <th>2019-01-01 03:00:00</th>\n",
       "      <td>2799.193829</td>\n",
       "      <td>2019-01-01 03:00:00</td>\n",
       "      <td>2019</td>\n",
       "      <td>1</td>\n",
       "      <td>1</td>\n",
       "      <td>3</td>\n",
       "      <td>Tuesday</td>\n",
       "      <td>winter</td>\n",
       "      <td>0</td>\n",
       "    </tr>\n",
       "    <tr>\n",
       "      <th>2019-01-01 04:00:00</th>\n",
       "      <td>2761.883322</td>\n",
       "      <td>2019-01-01 04:00:00</td>\n",
       "      <td>2019</td>\n",
       "      <td>1</td>\n",
       "      <td>1</td>\n",
       "      <td>4</td>\n",
       "      <td>Tuesday</td>\n",
       "      <td>winter</td>\n",
       "      <td>0</td>\n",
       "    </tr>\n",
       "  </tbody>\n",
       "</table>\n",
       "</div>"
      ],
      "text/plain": [
       "                            SDGE                Date  year  month  day  hour  \\\n",
       "datetime                                                                       \n",
       "2019-01-01 00:00:00  2372.497411 2019-01-01 00:00:00  2019      1    1     0   \n",
       "2019-01-01 01:00:00  2698.751137 2019-01-01 01:00:00  2019      1    1     1   \n",
       "2019-01-01 02:00:00  2777.672120 2019-01-01 02:00:00  2019      1    1     2   \n",
       "2019-01-01 03:00:00  2799.193829 2019-01-01 03:00:00  2019      1    1     3   \n",
       "2019-01-01 04:00:00  2761.883322 2019-01-01 04:00:00  2019      1    1     4   \n",
       "\n",
       "                     weekday  season  holiday  \n",
       "datetime                                       \n",
       "2019-01-01 00:00:00  Tuesday  winter        1  \n",
       "2019-01-01 01:00:00  Tuesday  winter        0  \n",
       "2019-01-01 02:00:00  Tuesday  winter        0  \n",
       "2019-01-01 03:00:00  Tuesday  winter        0  \n",
       "2019-01-01 04:00:00  Tuesday  winter        0  "
      ]
     },
     "execution_count": 44,
     "metadata": {},
     "output_type": "execute_result"
    }
   ],
   "source": [
    "#converting the holiday column to 1 and 0, 1 indicating a holiday and 0 not a holiday; using dictionary and map to achieve this\n",
    "mapped = {True:1, False:0}\n",
    "SDGE_hr.holiday = SDGE_hr.holiday.map(mapped)\n",
    "SDGE_hr.head()"
   ]
  },
  {
   "cell_type": "code",
   "execution_count": 45,
   "metadata": {
    "id": "R9gLWvFeq7Mz"
   },
   "outputs": [],
   "source": [
    "column_order =['Date', 'SDGE', 'year', 'month', 'day','hour','weekday', 'season','holiday']\n",
    "SDGE_hr = SDGE_hr.reindex(columns=column_order)"
   ]
  },
  {
   "cell_type": "code",
   "execution_count": 46,
   "metadata": {
    "colab": {
     "base_uri": "https://localhost:8080/",
     "height": 235
    },
    "id": "mf5MFRr6q7Gu",
    "outputId": "dd928034-7c73-47c1-a15c-f0c1a759588d"
   },
   "outputs": [
    {
     "data": {
      "text/html": [
       "<div>\n",
       "<style scoped>\n",
       "    .dataframe tbody tr th:only-of-type {\n",
       "        vertical-align: middle;\n",
       "    }\n",
       "\n",
       "    .dataframe tbody tr th {\n",
       "        vertical-align: top;\n",
       "    }\n",
       "\n",
       "    .dataframe thead th {\n",
       "        text-align: right;\n",
       "    }\n",
       "</style>\n",
       "<table border=\"1\" class=\"dataframe\">\n",
       "  <thead>\n",
       "    <tr style=\"text-align: right;\">\n",
       "      <th></th>\n",
       "      <th>Date</th>\n",
       "      <th>SDGE</th>\n",
       "      <th>year</th>\n",
       "      <th>month</th>\n",
       "      <th>day</th>\n",
       "      <th>hour</th>\n",
       "      <th>weekday</th>\n",
       "      <th>season</th>\n",
       "      <th>holiday</th>\n",
       "    </tr>\n",
       "    <tr>\n",
       "      <th>datetime</th>\n",
       "      <th></th>\n",
       "      <th></th>\n",
       "      <th></th>\n",
       "      <th></th>\n",
       "      <th></th>\n",
       "      <th></th>\n",
       "      <th></th>\n",
       "      <th></th>\n",
       "      <th></th>\n",
       "    </tr>\n",
       "  </thead>\n",
       "  <tbody>\n",
       "    <tr>\n",
       "      <th>2019-01-01 00:00:00</th>\n",
       "      <td>2019-01-01 00:00:00</td>\n",
       "      <td>2372.497411</td>\n",
       "      <td>2019</td>\n",
       "      <td>1</td>\n",
       "      <td>1</td>\n",
       "      <td>0</td>\n",
       "      <td>Tuesday</td>\n",
       "      <td>winter</td>\n",
       "      <td>1</td>\n",
       "    </tr>\n",
       "    <tr>\n",
       "      <th>2019-01-01 01:00:00</th>\n",
       "      <td>2019-01-01 01:00:00</td>\n",
       "      <td>2698.751137</td>\n",
       "      <td>2019</td>\n",
       "      <td>1</td>\n",
       "      <td>1</td>\n",
       "      <td>1</td>\n",
       "      <td>Tuesday</td>\n",
       "      <td>winter</td>\n",
       "      <td>0</td>\n",
       "    </tr>\n",
       "    <tr>\n",
       "      <th>2019-01-01 02:00:00</th>\n",
       "      <td>2019-01-01 02:00:00</td>\n",
       "      <td>2777.672120</td>\n",
       "      <td>2019</td>\n",
       "      <td>1</td>\n",
       "      <td>1</td>\n",
       "      <td>2</td>\n",
       "      <td>Tuesday</td>\n",
       "      <td>winter</td>\n",
       "      <td>0</td>\n",
       "    </tr>\n",
       "    <tr>\n",
       "      <th>2019-01-01 03:00:00</th>\n",
       "      <td>2019-01-01 03:00:00</td>\n",
       "      <td>2799.193829</td>\n",
       "      <td>2019</td>\n",
       "      <td>1</td>\n",
       "      <td>1</td>\n",
       "      <td>3</td>\n",
       "      <td>Tuesday</td>\n",
       "      <td>winter</td>\n",
       "      <td>0</td>\n",
       "    </tr>\n",
       "    <tr>\n",
       "      <th>2019-01-01 04:00:00</th>\n",
       "      <td>2019-01-01 04:00:00</td>\n",
       "      <td>2761.883322</td>\n",
       "      <td>2019</td>\n",
       "      <td>1</td>\n",
       "      <td>1</td>\n",
       "      <td>4</td>\n",
       "      <td>Tuesday</td>\n",
       "      <td>winter</td>\n",
       "      <td>0</td>\n",
       "    </tr>\n",
       "  </tbody>\n",
       "</table>\n",
       "</div>"
      ],
      "text/plain": [
       "                                   Date         SDGE  year  month  day  hour  \\\n",
       "datetime                                                                       \n",
       "2019-01-01 00:00:00 2019-01-01 00:00:00  2372.497411  2019      1    1     0   \n",
       "2019-01-01 01:00:00 2019-01-01 01:00:00  2698.751137  2019      1    1     1   \n",
       "2019-01-01 02:00:00 2019-01-01 02:00:00  2777.672120  2019      1    1     2   \n",
       "2019-01-01 03:00:00 2019-01-01 03:00:00  2799.193829  2019      1    1     3   \n",
       "2019-01-01 04:00:00 2019-01-01 04:00:00  2761.883322  2019      1    1     4   \n",
       "\n",
       "                     weekday  season  holiday  \n",
       "datetime                                       \n",
       "2019-01-01 00:00:00  Tuesday  winter        1  \n",
       "2019-01-01 01:00:00  Tuesday  winter        0  \n",
       "2019-01-01 02:00:00  Tuesday  winter        0  \n",
       "2019-01-01 03:00:00  Tuesday  winter        0  \n",
       "2019-01-01 04:00:00  Tuesday  winter        0  "
      ]
     },
     "execution_count": 46,
     "metadata": {},
     "output_type": "execute_result"
    }
   ],
   "source": [
    "SDGE_hr.head()"
   ]
  },
  {
   "cell_type": "code",
   "execution_count": 47,
   "metadata": {
    "id": "Uwao6OXhicUG"
   },
   "outputs": [],
   "source": [
    "#Saving PGE file to csv\n",
    "SDGE_hr.to_csv('hourly_SDGE.csv')"
   ]
  },
  {
   "cell_type": "markdown",
   "metadata": {
    "id": "gMpT8x0Qflcs"
   },
   "source": [
    "# Loading Weather data"
   ]
  },
  {
   "cell_type": "code",
   "execution_count": 50,
   "metadata": {
    "colab": {
     "base_uri": "https://localhost:8080/"
    },
    "id": "X9t-cVhsfyib",
    "outputId": "91e8f70e-b4af-410e-e687-61cc8c433316"
   },
   "outputs": [],
   "source": [
    "#Weather is fetched from https://www.ncei.noaa.gov/cdo-web/datatools/lcd from 2019 until October of 2023\n",
    "#Using San Diego international airport weather information station #72290023188 since San Diego is a small county\n",
    "#Airport weather has less noise and hence why it was chosen for this project\n",
    "weather_df= pd.read_csv('https://www.ncei.noaa.gov/orders/cdo/3505262.csv')"
   ]
  },
  {
   "cell_type": "code",
   "execution_count": 51,
   "metadata": {
    "id": "XqzTbVo7BzX4"
   },
   "outputs": [],
   "source": [
    "#Filtering weather data to include the most common hourly indicators and Date stamp for merging with energy data\n",
    "weather_indicators = ['DATE','HourlyDryBulbTemperature', 'HourlyPrecipitation',\n",
    "                     'HourlyRelativeHumidity','HourlyWindSpeed']"
   ]
  },
  {
   "cell_type": "code",
   "execution_count": 52,
   "metadata": {
    "id": "bncCeI6eGxRV"
   },
   "outputs": [],
   "source": [
    "weather_hr= weather_df.loc[:,weather_indicators]"
   ]
  },
  {
   "cell_type": "code",
   "execution_count": 53,
   "metadata": {
    "colab": {
     "base_uri": "https://localhost:8080/",
     "height": 204
    },
    "id": "dZwT7yE9bFfb",
    "outputId": "4763fa3b-2bb1-40bb-9942-f3075e1c4806"
   },
   "outputs": [
    {
     "data": {
      "text/html": [
       "<div>\n",
       "<style scoped>\n",
       "    .dataframe tbody tr th:only-of-type {\n",
       "        vertical-align: middle;\n",
       "    }\n",
       "\n",
       "    .dataframe tbody tr th {\n",
       "        vertical-align: top;\n",
       "    }\n",
       "\n",
       "    .dataframe thead th {\n",
       "        text-align: right;\n",
       "    }\n",
       "</style>\n",
       "<table border=\"1\" class=\"dataframe\">\n",
       "  <thead>\n",
       "    <tr style=\"text-align: right;\">\n",
       "      <th></th>\n",
       "      <th>DATE</th>\n",
       "      <th>HourlyDryBulbTemperature</th>\n",
       "      <th>HourlyPrecipitation</th>\n",
       "      <th>HourlyRelativeHumidity</th>\n",
       "      <th>HourlyWindSpeed</th>\n",
       "    </tr>\n",
       "  </thead>\n",
       "  <tbody>\n",
       "    <tr>\n",
       "      <th>0</th>\n",
       "      <td>2019-01-01T00:51:00</td>\n",
       "      <td>49.0</td>\n",
       "      <td>0.00</td>\n",
       "      <td>71.0</td>\n",
       "      <td>0.0</td>\n",
       "    </tr>\n",
       "    <tr>\n",
       "      <th>1</th>\n",
       "      <td>2019-01-01T01:51:00</td>\n",
       "      <td>47.0</td>\n",
       "      <td>0.00</td>\n",
       "      <td>77.0</td>\n",
       "      <td>5.0</td>\n",
       "    </tr>\n",
       "    <tr>\n",
       "      <th>2</th>\n",
       "      <td>2019-01-01T02:51:00</td>\n",
       "      <td>47.0</td>\n",
       "      <td>0.00</td>\n",
       "      <td>63.0</td>\n",
       "      <td>6.0</td>\n",
       "    </tr>\n",
       "    <tr>\n",
       "      <th>3</th>\n",
       "      <td>2019-01-01T03:51:00</td>\n",
       "      <td>47.0</td>\n",
       "      <td>0.00</td>\n",
       "      <td>52.0</td>\n",
       "      <td>6.0</td>\n",
       "    </tr>\n",
       "    <tr>\n",
       "      <th>4</th>\n",
       "      <td>2019-01-01T04:00:00</td>\n",
       "      <td>47.0</td>\n",
       "      <td>NaN</td>\n",
       "      <td>52.0</td>\n",
       "      <td>6.0</td>\n",
       "    </tr>\n",
       "  </tbody>\n",
       "</table>\n",
       "</div>"
      ],
      "text/plain": [
       "                  DATE HourlyDryBulbTemperature HourlyPrecipitation  \\\n",
       "0  2019-01-01T00:51:00                     49.0                0.00   \n",
       "1  2019-01-01T01:51:00                     47.0                0.00   \n",
       "2  2019-01-01T02:51:00                     47.0                0.00   \n",
       "3  2019-01-01T03:51:00                     47.0                0.00   \n",
       "4  2019-01-01T04:00:00                     47.0                 NaN   \n",
       "\n",
       "   HourlyRelativeHumidity  HourlyWindSpeed  \n",
       "0                    71.0              0.0  \n",
       "1                    77.0              5.0  \n",
       "2                    63.0              6.0  \n",
       "3                    52.0              6.0  \n",
       "4                    52.0              6.0  "
      ]
     },
     "execution_count": 53,
     "metadata": {},
     "output_type": "execute_result"
    }
   ],
   "source": [
    "weather_hr.head()"
   ]
  },
  {
   "cell_type": "code",
   "execution_count": 54,
   "metadata": {
    "colab": {
     "base_uri": "https://localhost:8080/"
    },
    "id": "5zNFacTzLErl",
    "outputId": "54f216b6-e277-4d49-8226-8e831b4fd6ad"
   },
   "outputs": [
    {
     "data": {
      "text/plain": [
       "DATE                            0\n",
       "HourlyDryBulbTemperature     1827\n",
       "HourlyPrecipitation         17294\n",
       "HourlyRelativeHumidity       1847\n",
       "HourlyWindSpeed              1827\n",
       "dtype: int64"
      ]
     },
     "execution_count": 54,
     "metadata": {},
     "output_type": "execute_result"
    }
   ],
   "source": [
    "#Checking for missing values\n",
    "weather_hr.isna().sum()"
   ]
  },
  {
   "cell_type": "code",
   "execution_count": 55,
   "metadata": {
    "id": "3_NdOb5_YJNp"
   },
   "outputs": [],
   "source": [
    "#Changing object type data to numeric for filling missing values and future computation\n",
    "weather_hr['HourlyDryBulbTemperature'] = pd.to_numeric(weather_hr['HourlyDryBulbTemperature'], errors='coerce')\n",
    "weather_hr['HourlyPrecipitation'] = pd.to_numeric(weather_hr['HourlyPrecipitation'], errors='coerce')"
   ]
  },
  {
   "cell_type": "code",
   "execution_count": 56,
   "metadata": {
    "colab": {
     "base_uri": "https://localhost:8080/",
     "height": 297
    },
    "id": "h3LjiLlTXsn-",
    "outputId": "0872abfd-80dd-4eb7-f3a8-0bd15537f2b7"
   },
   "outputs": [
    {
     "data": {
      "text/html": [
       "<div>\n",
       "<style scoped>\n",
       "    .dataframe tbody tr th:only-of-type {\n",
       "        vertical-align: middle;\n",
       "    }\n",
       "\n",
       "    .dataframe tbody tr th {\n",
       "        vertical-align: top;\n",
       "    }\n",
       "\n",
       "    .dataframe thead th {\n",
       "        text-align: right;\n",
       "    }\n",
       "</style>\n",
       "<table border=\"1\" class=\"dataframe\">\n",
       "  <thead>\n",
       "    <tr style=\"text-align: right;\">\n",
       "      <th></th>\n",
       "      <th>HourlyDryBulbTemperature</th>\n",
       "      <th>HourlyPrecipitation</th>\n",
       "      <th>HourlyRelativeHumidity</th>\n",
       "      <th>HourlyWindSpeed</th>\n",
       "    </tr>\n",
       "  </thead>\n",
       "  <tbody>\n",
       "    <tr>\n",
       "      <th>count</th>\n",
       "      <td>58937.000000</td>\n",
       "      <td>41572.000000</td>\n",
       "      <td>58939.000000</td>\n",
       "      <td>58959.000000</td>\n",
       "    </tr>\n",
       "    <tr>\n",
       "      <th>mean</th>\n",
       "      <td>63.944229</td>\n",
       "      <td>0.002379</td>\n",
       "      <td>71.233920</td>\n",
       "      <td>5.422734</td>\n",
       "    </tr>\n",
       "    <tr>\n",
       "      <th>std</th>\n",
       "      <td>7.514476</td>\n",
       "      <td>0.017865</td>\n",
       "      <td>15.728301</td>\n",
       "      <td>4.026263</td>\n",
       "    </tr>\n",
       "    <tr>\n",
       "      <th>min</th>\n",
       "      <td>38.000000</td>\n",
       "      <td>0.000000</td>\n",
       "      <td>6.000000</td>\n",
       "      <td>0.000000</td>\n",
       "    </tr>\n",
       "    <tr>\n",
       "      <th>25%</th>\n",
       "      <td>59.000000</td>\n",
       "      <td>0.000000</td>\n",
       "      <td>64.000000</td>\n",
       "      <td>3.000000</td>\n",
       "    </tr>\n",
       "    <tr>\n",
       "      <th>50%</th>\n",
       "      <td>64.000000</td>\n",
       "      <td>0.000000</td>\n",
       "      <td>73.000000</td>\n",
       "      <td>6.000000</td>\n",
       "    </tr>\n",
       "    <tr>\n",
       "      <th>75%</th>\n",
       "      <td>69.000000</td>\n",
       "      <td>0.000000</td>\n",
       "      <td>82.000000</td>\n",
       "      <td>8.000000</td>\n",
       "    </tr>\n",
       "    <tr>\n",
       "      <th>max</th>\n",
       "      <td>97.000000</td>\n",
       "      <td>0.510000</td>\n",
       "      <td>100.000000</td>\n",
       "      <td>37.000000</td>\n",
       "    </tr>\n",
       "  </tbody>\n",
       "</table>\n",
       "</div>"
      ],
      "text/plain": [
       "       HourlyDryBulbTemperature  HourlyPrecipitation  HourlyRelativeHumidity  \\\n",
       "count              58937.000000         41572.000000            58939.000000   \n",
       "mean                  63.944229             0.002379               71.233920   \n",
       "std                    7.514476             0.017865               15.728301   \n",
       "min                   38.000000             0.000000                6.000000   \n",
       "25%                   59.000000             0.000000               64.000000   \n",
       "50%                   64.000000             0.000000               73.000000   \n",
       "75%                   69.000000             0.000000               82.000000   \n",
       "max                   97.000000             0.510000              100.000000   \n",
       "\n",
       "       HourlyWindSpeed  \n",
       "count     58959.000000  \n",
       "mean          5.422734  \n",
       "std           4.026263  \n",
       "min           0.000000  \n",
       "25%           3.000000  \n",
       "50%           6.000000  \n",
       "75%           8.000000  \n",
       "max          37.000000  "
      ]
     },
     "execution_count": 56,
     "metadata": {},
     "output_type": "execute_result"
    }
   ],
   "source": [
    "weather_hr.describe()"
   ]
  },
  {
   "cell_type": "code",
   "execution_count": 57,
   "metadata": {
    "id": "XEQUX3alO6qx"
   },
   "outputs": [],
   "source": [
    "#Although percipitation is valuable, 75% % of its values are missing and will therfore drop the column\n",
    "weather_hr.drop(['HourlyPrecipitation'], axis=1, inplace=True)"
   ]
  },
  {
   "cell_type": "code",
   "execution_count": 58,
   "metadata": {
    "id": "BLSX-2HqPCJB"
   },
   "outputs": [],
   "source": [
    "# Since our data is ordered by the hour and weather can flactuate we'll be using quadratic interpolate to fill in missing values\n",
    "# HourlyWindSpeed has outlier values and will instead be using bfill instead of interpolation method\n",
    "weather_hr['HourlyDryBulbTemperature'] = weather_hr['HourlyDryBulbTemperature'].interpolate(method='quadratic')\n",
    "weather_hr['HourlyRelativeHumidity'] = weather_hr['HourlyRelativeHumidity'].interpolate(method='quadratic')\n",
    "weather_hr['HourlyWindSpeed'] = weather_hr['HourlyWindSpeed'].fillna(method='bfill')"
   ]
  },
  {
   "cell_type": "code",
   "execution_count": 59,
   "metadata": {
    "colab": {
     "base_uri": "https://localhost:8080/"
    },
    "id": "o0ieyEfZToBm",
    "outputId": "1506ce87-d8fa-4206-a8d0-88870548d59f"
   },
   "outputs": [
    {
     "data": {
      "text/plain": [
       "DATE                        0\n",
       "HourlyDryBulbTemperature    0\n",
       "HourlyRelativeHumidity      0\n",
       "HourlyWindSpeed             0\n",
       "dtype: int64"
      ]
     },
     "execution_count": 59,
     "metadata": {},
     "output_type": "execute_result"
    }
   ],
   "source": [
    "#no longer have null values\n",
    "weather_hr.isna().sum()"
   ]
  },
  {
   "cell_type": "code",
   "execution_count": 60,
   "metadata": {
    "colab": {
     "base_uri": "https://localhost:8080/"
    },
    "id": "_D5hBGacTqkN",
    "outputId": "7cbaed5f-7970-43e3-e9a0-321694050fc2"
   },
   "outputs": [
    {
     "name": "stdout",
     "output_type": "stream",
     "text": [
      "<class 'pandas.core.frame.DataFrame'>\n",
      "RangeIndex: 60786 entries, 0 to 60785\n",
      "Data columns (total 4 columns):\n",
      " #   Column                    Non-Null Count  Dtype  \n",
      "---  ------                    --------------  -----  \n",
      " 0   DATE                      60786 non-null  object \n",
      " 1   HourlyDryBulbTemperature  60786 non-null  float64\n",
      " 2   HourlyRelativeHumidity    60786 non-null  float64\n",
      " 3   HourlyWindSpeed           60786 non-null  float64\n",
      "dtypes: float64(3), object(1)\n",
      "memory usage: 1.9+ MB\n"
     ]
    }
   ],
   "source": [
    "#shape is 60786 rows when the years we're looking at should have 35064 hours and the set frequency, columns\n",
    "weather_hr.info()"
   ]
  },
  {
   "cell_type": "code",
   "execution_count": 61,
   "metadata": {
    "id": "DjDOYYzA9mHQ"
   },
   "outputs": [],
   "source": [
    "weather_hr['DATE'] = pd.to_datetime(weather_hr['DATE'])\n",
    "weather_hr = weather_hr[weather_hr['DATE'].dt.year != 2023]"
   ]
  },
  {
   "cell_type": "code",
   "execution_count": 62,
   "metadata": {
    "id": "A-cEUmTa8wmP"
   },
   "outputs": [],
   "source": [
    "#Since weather data will be merged with energy data resampling record to hourly bases\n",
    "hourly_weather = weather_hr.set_index('DATE').resample('H').mean()"
   ]
  },
  {
   "cell_type": "code",
   "execution_count": 63,
   "metadata": {
    "colab": {
     "base_uri": "https://localhost:8080/",
     "height": 450
    },
    "id": "c1NQb4da-S7W",
    "outputId": "b6e17d0a-e244-41f1-bc57-6745ffc9f6ad"
   },
   "outputs": [
    {
     "data": {
      "text/html": [
       "<div>\n",
       "<style scoped>\n",
       "    .dataframe tbody tr th:only-of-type {\n",
       "        vertical-align: middle;\n",
       "    }\n",
       "\n",
       "    .dataframe tbody tr th {\n",
       "        vertical-align: top;\n",
       "    }\n",
       "\n",
       "    .dataframe thead th {\n",
       "        text-align: right;\n",
       "    }\n",
       "</style>\n",
       "<table border=\"1\" class=\"dataframe\">\n",
       "  <thead>\n",
       "    <tr style=\"text-align: right;\">\n",
       "      <th></th>\n",
       "      <th>HourlyDryBulbTemperature</th>\n",
       "      <th>HourlyRelativeHumidity</th>\n",
       "      <th>HourlyWindSpeed</th>\n",
       "    </tr>\n",
       "    <tr>\n",
       "      <th>DATE</th>\n",
       "      <th></th>\n",
       "      <th></th>\n",
       "      <th></th>\n",
       "    </tr>\n",
       "  </thead>\n",
       "  <tbody>\n",
       "    <tr>\n",
       "      <th>2019-01-01 00:00:00</th>\n",
       "      <td>49.000000</td>\n",
       "      <td>71.000000</td>\n",
       "      <td>0.000000</td>\n",
       "    </tr>\n",
       "    <tr>\n",
       "      <th>2019-01-01 01:00:00</th>\n",
       "      <td>47.000000</td>\n",
       "      <td>77.000000</td>\n",
       "      <td>5.000000</td>\n",
       "    </tr>\n",
       "    <tr>\n",
       "      <th>2019-01-01 02:00:00</th>\n",
       "      <td>47.000000</td>\n",
       "      <td>63.000000</td>\n",
       "      <td>6.000000</td>\n",
       "    </tr>\n",
       "    <tr>\n",
       "      <th>2019-01-01 03:00:00</th>\n",
       "      <td>47.000000</td>\n",
       "      <td>52.000000</td>\n",
       "      <td>6.000000</td>\n",
       "    </tr>\n",
       "    <tr>\n",
       "      <th>2019-01-01 04:00:00</th>\n",
       "      <td>46.500000</td>\n",
       "      <td>51.500000</td>\n",
       "      <td>5.500000</td>\n",
       "    </tr>\n",
       "    <tr>\n",
       "      <th>...</th>\n",
       "      <td>...</td>\n",
       "      <td>...</td>\n",
       "      <td>...</td>\n",
       "    </tr>\n",
       "    <tr>\n",
       "      <th>2022-12-31 19:00:00</th>\n",
       "      <td>61.000000</td>\n",
       "      <td>81.000000</td>\n",
       "      <td>10.000000</td>\n",
       "    </tr>\n",
       "    <tr>\n",
       "      <th>2022-12-31 20:00:00</th>\n",
       "      <td>61.000000</td>\n",
       "      <td>78.000000</td>\n",
       "      <td>8.000000</td>\n",
       "    </tr>\n",
       "    <tr>\n",
       "      <th>2022-12-31 21:00:00</th>\n",
       "      <td>61.000000</td>\n",
       "      <td>79.500000</td>\n",
       "      <td>10.000000</td>\n",
       "    </tr>\n",
       "    <tr>\n",
       "      <th>2022-12-31 22:00:00</th>\n",
       "      <td>60.166667</td>\n",
       "      <td>86.500000</td>\n",
       "      <td>15.500000</td>\n",
       "    </tr>\n",
       "    <tr>\n",
       "      <th>2022-12-31 23:00:00</th>\n",
       "      <td>59.351408</td>\n",
       "      <td>90.364483</td>\n",
       "      <td>15.666667</td>\n",
       "    </tr>\n",
       "  </tbody>\n",
       "</table>\n",
       "<p>35064 rows × 3 columns</p>\n",
       "</div>"
      ],
      "text/plain": [
       "                     HourlyDryBulbTemperature  HourlyRelativeHumidity  \\\n",
       "DATE                                                                    \n",
       "2019-01-01 00:00:00                 49.000000               71.000000   \n",
       "2019-01-01 01:00:00                 47.000000               77.000000   \n",
       "2019-01-01 02:00:00                 47.000000               63.000000   \n",
       "2019-01-01 03:00:00                 47.000000               52.000000   \n",
       "2019-01-01 04:00:00                 46.500000               51.500000   \n",
       "...                                       ...                     ...   \n",
       "2022-12-31 19:00:00                 61.000000               81.000000   \n",
       "2022-12-31 20:00:00                 61.000000               78.000000   \n",
       "2022-12-31 21:00:00                 61.000000               79.500000   \n",
       "2022-12-31 22:00:00                 60.166667               86.500000   \n",
       "2022-12-31 23:00:00                 59.351408               90.364483   \n",
       "\n",
       "                     HourlyWindSpeed  \n",
       "DATE                                  \n",
       "2019-01-01 00:00:00         0.000000  \n",
       "2019-01-01 01:00:00         5.000000  \n",
       "2019-01-01 02:00:00         6.000000  \n",
       "2019-01-01 03:00:00         6.000000  \n",
       "2019-01-01 04:00:00         5.500000  \n",
       "...                              ...  \n",
       "2022-12-31 19:00:00        10.000000  \n",
       "2022-12-31 20:00:00         8.000000  \n",
       "2022-12-31 21:00:00        10.000000  \n",
       "2022-12-31 22:00:00        15.500000  \n",
       "2022-12-31 23:00:00        15.666667  \n",
       "\n",
       "[35064 rows x 3 columns]"
      ]
     },
     "execution_count": 63,
     "metadata": {},
     "output_type": "execute_result"
    }
   ],
   "source": [
    "hourly_weather"
   ]
  },
  {
   "cell_type": "code",
   "execution_count": 64,
   "metadata": {
    "colab": {
     "base_uri": "https://localhost:8080/"
    },
    "id": "w3_u-BUajT0j",
    "outputId": "88e1e06f-d98d-4e17-cff5-2e4f3e0a1ab1"
   },
   "outputs": [
    {
     "data": {
      "text/plain": [
       "HourlyDryBulbTemperature    0\n",
       "HourlyRelativeHumidity      0\n",
       "HourlyWindSpeed             0\n",
       "dtype: int64"
      ]
     },
     "execution_count": 64,
     "metadata": {},
     "output_type": "execute_result"
    }
   ],
   "source": [
    "hourly_weather.isna().sum()"
   ]
  },
  {
   "cell_type": "code",
   "execution_count": 65,
   "metadata": {
    "id": "Oq8_g6Xv-11B"
   },
   "outputs": [],
   "source": [
    "hourly_weather.to_csv('hourly_weather.csv')"
   ]
  },
  {
   "cell_type": "markdown",
   "metadata": {
    "id": "ze22mlGZ_pLs"
   },
   "source": [
    "# Weather and Energy data merged"
   ]
  },
  {
   "cell_type": "code",
   "execution_count": 66,
   "metadata": {
    "id": "CLEzdHNfjXaJ"
   },
   "outputs": [],
   "source": [
    "SDGE_W = pd.merge(SDGE_hr, hourly_weather, how = 'outer', left_on = 'Date', right_on= 'DATE')"
   ]
  },
  {
   "cell_type": "code",
   "execution_count": 67,
   "metadata": {
    "id": "nXeVWOp0AKVp"
   },
   "outputs": [],
   "source": [
    "SDGE_W.to_csv('SDGE_W.csv')"
   ]
  },
  {
   "cell_type": "code",
   "execution_count": null,
   "metadata": {
    "id": "630nELYdASIx"
   },
   "outputs": [],
   "source": []
  }
 ],
 "metadata": {
  "colab": {
   "provenance": []
  },
  "kernelspec": {
   "display_name": "Python 3 (ipykernel)",
   "language": "python",
   "name": "python3"
  },
  "language_info": {
   "codemirror_mode": {
    "name": "ipython",
    "version": 3
   },
   "file_extension": ".py",
   "mimetype": "text/x-python",
   "name": "python",
   "nbconvert_exporter": "python",
   "pygments_lexer": "ipython3",
   "version": "3.9.16"
  }
 },
 "nbformat": 4,
 "nbformat_minor": 4
}
