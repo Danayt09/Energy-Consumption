{
  "nbformat": 4,
  "nbformat_minor": 0,
  "metadata": {
    "colab": {
      "provenance": []
    },
    "kernelspec": {
      "name": "python3",
      "display_name": "Python 3"
    },
    "language_info": {
      "name": "python"
    }
  },
  "cells": [
    {
      "cell_type": "code",
      "source": [
        "from random import gauss as gs\n",
        "import pandas as pd\n",
        "import numpy as np\n",
        "import matplotlib.pyplot as plt\n",
        "from sklearn.metrics import mean_squared_error\n",
        "from sklearn.linear_model import LinearRegression\n",
        "from sklearn.model_selection import TimeSeriesSplit\n",
        "\n",
        "from statsmodels.tsa.arima.model import ARIMA\n",
        "from statsmodels.tsa.stattools import acf, pacf, adfuller\n",
        "from statsmodels.graphics.tsaplots import plot_acf, plot_pacf\n",
        "from statsmodels.tsa.statespace.sarimax import SARIMAX"
      ],
      "metadata": {
        "id": "CvSM5hThphAT"
      },
      "execution_count": null,
      "outputs": []
    },
    {
      "cell_type": "code",
      "execution_count": null,
      "metadata": {
        "id": "RCNZwnvwpJh7"
      },
      "outputs": [],
      "source": [
        "df = pd.read_csv('/content/SDGE_W.csv')"
      ]
    },
    {
      "cell_type": "markdown",
      "source": [
        "# Split data into trends, seasonality and residuals"
      ],
      "metadata": {
        "id": "pAC4j62Dg_Q1"
      }
    },
    {
      "cell_type": "markdown",
      "source": [
        "# Modeling with only time and date"
      ],
      "metadata": {
        "id": "ALlSFPV-RUWj"
      }
    },
    {
      "cell_type": "code",
      "source": [],
      "metadata": {
        "id": "cfaGpwqBRYvN"
      },
      "execution_count": null,
      "outputs": []
    }
  ]
}